{
  "nbformat": 4,
  "nbformat_minor": 0,
  "metadata": {
    "colab": {
      "provenance": [],
      "toc_visible": true,
      "authorship_tag": "ABX9TyMJFvMdYdvHwuP3E25r0xLJ",
      "include_colab_link": true
    },
    "kernelspec": {
      "name": "python3",
      "display_name": "Python 3"
    },
    "language_info": {
      "name": "python"
    }
  },
  "cells": [
    {
      "cell_type": "markdown",
      "metadata": {
        "id": "view-in-github",
        "colab_type": "text"
      },
      "source": [
        "<a href=\"https://colab.research.google.com/github/romenlongcode/Python-for-Data-Science/blob/main/pyuth.ipynb\" target=\"_parent\"><img src=\"https://colab.research.google.com/assets/colab-badge.svg\" alt=\"Open In Colab\"/></a>"
      ]
    },
    {
      "cell_type": "code",
      "execution_count": null,
      "metadata": {
        "id": "F8yyiiQNAAAn",
        "colab": {
          "base_uri": "https://localhost:8080/"
        },
        "outputId": "5f0a3db7-05d8-4a94-83bb-bda86f17e0a9"
      },
      "outputs": [
        {
          "output_type": "stream",
          "name": "stdout",
          "text": [
            "Exponent Result: 3200000\n",
            "Floor Division Result: 4\n",
            "Modulus Result: 0\n"
          ]
        }
      ],
      "source": [
        "a=20\n",
        "b=5\n",
        "floor_div_result=a//b\n",
        "modulus_result=a%b\n",
        "exponential_result=a**b\n",
        "print(\"Exponent Result:\",exponential_result)\n",
        "print(\"Floor Division Result:\",floor_div_result)\n",
        "print(\"Modulus Result:\",modulus_result)"
      ]
    },
    {
      "cell_type": "code",
      "source": [
        "#Comparison\n",
        "num1=45\n",
        "num2=48\n",
        "print(\"num1 is equal to num2:\",num1==num2)"
      ],
      "metadata": {
        "colab": {
          "base_uri": "https://localhost:8080/"
        },
        "id": "IAZZzvZJrC14",
        "outputId": "23765311-e5eb-4353-a475-62ebe3976e9e"
      },
      "execution_count": null,
      "outputs": [
        {
          "output_type": "stream",
          "name": "stdout",
          "text": [
            "num1 is equal to num2: False\n"
          ]
        }
      ]
    },
    {
      "cell_type": "code",
      "source": [
        "num1=23\n",
        "num2=28\n",
        "print(\"num1 is greater than or equal to :\",num1>=num2)\n",
        "print(\"num1 is less than or equal to :\",num1<=num2)"
      ],
      "metadata": {
        "colab": {
          "base_uri": "https://localhost:8080/"
        },
        "id": "OdT_AU02rvFH",
        "outputId": "836119ee-a7f3-40e3-f24b-8f0a664a6782"
      },
      "execution_count": null,
      "outputs": [
        {
          "output_type": "stream",
          "name": "stdout",
          "text": [
            "num1 is greater than or equal to : False\n",
            "num1 is less than or equal to : True\n"
          ]
        }
      ]
    },
    {
      "cell_type": "code",
      "source": [
        "# LOGICAL OPERATORS\n",
        "##AND\n",
        "x=8\n",
        "print(x>5 and x<10)"
      ],
      "metadata": {
        "colab": {
          "base_uri": "https://localhost:8080/"
        },
        "id": "HoBUUfayr4mH",
        "outputId": "e37e72c0-1d71-44f6-9815-7f3ab0271ee4"
      },
      "execution_count": null,
      "outputs": [
        {
          "output_type": "stream",
          "name": "stdout",
          "text": [
            "True\n"
          ]
        }
      ]
    },
    {
      "cell_type": "code",
      "source": [
        "print(x>9 and x<6)"
      ],
      "metadata": {
        "colab": {
          "base_uri": "https://localhost:8080/"
        },
        "id": "cx_YsBgcr49R",
        "outputId": "892c2c20-dd38-47be-bc83-6cd40c87edf6"
      },
      "execution_count": null,
      "outputs": [
        {
          "output_type": "stream",
          "name": "stdout",
          "text": [
            "False\n"
          ]
        }
      ]
    },
    {
      "cell_type": "code",
      "source": [
        "##OR\n",
        "x=8\n",
        "print(x>8 or x<8)"
      ],
      "metadata": {
        "colab": {
          "base_uri": "https://localhost:8080/"
        },
        "id": "xGdtWht1r5IR",
        "outputId": "e88ceab7-85bb-459c-e0ed-b145b02831bc"
      },
      "execution_count": null,
      "outputs": [
        {
          "output_type": "stream",
          "name": "stdout",
          "text": [
            "False\n"
          ]
        }
      ]
    },
    {
      "cell_type": "code",
      "source": [
        "# conditional statements\n",
        "for i in range(1,11,2):\n",
        "  print(i)\n"
      ],
      "metadata": {
        "id": "R5q9egnWr7TZ",
        "colab": {
          "base_uri": "https://localhost:8080/"
        },
        "outputId": "c5ae5943-ea5e-4463-f03e-dd4e0209c200"
      },
      "execution_count": 1,
      "outputs": [
        {
          "output_type": "stream",
          "name": "stdout",
          "text": [
            "1\n",
            "3\n",
            "5\n",
            "7\n",
            "9\n"
          ]
        }
      ]
    },
    {
      "cell_type": "code",
      "source": [
        "range(1,10)"
      ],
      "metadata": {
        "id": "FAAhE3MFy8l6",
        "colab": {
          "base_uri": "https://localhost:8080/"
        },
        "outputId": "218d29d4-8f56-47a4-d19e-f18b16b67b80"
      },
      "execution_count": 2,
      "outputs": [
        {
          "output_type": "execute_result",
          "data": {
            "text/plain": [
              "range(1, 10)"
            ]
          },
          "metadata": {},
          "execution_count": 2
        }
      ]
    },
    {
      "cell_type": "code",
      "source": [
        "for i in range(10,1,-2):\n",
        "  print(i)\n",
        ""
      ],
      "metadata": {
        "id": "q5QO72gAy88R",
        "colab": {
          "base_uri": "https://localhost:8080/"
        },
        "outputId": "28f8d60e-e82b-48a3-eea9-a1bafb3d2b7c"
      },
      "execution_count": 3,
      "outputs": [
        {
          "output_type": "stream",
          "name": "stdout",
          "text": [
            "10\n",
            "8\n",
            "6\n",
            "4\n",
            "2\n"
          ]
        }
      ]
    },
    {
      "cell_type": "code",
      "source": [
        "a=0\n",
        "while a<10:\n",
        "  print(a)\n",
        "  a=a+3"
      ],
      "metadata": {
        "id": "c0GbJjQiy9US",
        "colab": {
          "base_uri": "https://localhost:8080/"
        },
        "outputId": "14bedd32-1122-4b82-bfa0-1f1078edc3aa"
      },
      "execution_count": 7,
      "outputs": [
        {
          "output_type": "stream",
          "name": "stdout",
          "text": [
            "0\n",
            "3\n",
            "6\n",
            "9\n"
          ]
        }
      ]
    },
    {
      "cell_type": "code",
      "source": [
        "b=0\n",
        "while b<10:\n",
        "  print(b)\n",
        "  if b==5:\n",
        "    break\n",
        "  b+=2"
      ],
      "metadata": {
        "id": "DdTmnqZ-y-JB",
        "colab": {
          "base_uri": "https://localhost:8080/"
        },
        "collapsed": true,
        "outputId": "9be66b0f-6825-440d-f1e8-87dcd26c0cfb"
      },
      "execution_count": 6,
      "outputs": [
        {
          "output_type": "stream",
          "name": "stdout",
          "text": [
            "0\n",
            "2\n",
            "4\n",
            "6\n",
            "8\n"
          ]
        }
      ]
    },
    {
      "cell_type": "code",
      "source": [
        "a=1\n",
        "while a<10:\n",
        "  a+=3\n",
        "  if a==5:\n",
        "    continue\n",
        "  print(a)"
      ],
      "metadata": {
        "id": "yIxWuG7Iy-kY",
        "colab": {
          "base_uri": "https://localhost:8080/"
        },
        "outputId": "406d7a8f-dda3-446e-bb3e-e20218cd1b75"
      },
      "execution_count": 8,
      "outputs": [
        {
          "output_type": "stream",
          "name": "stdout",
          "text": [
            "4\n",
            "7\n",
            "10\n"
          ]
        }
      ]
    },
    {
      "cell_type": "code",
      "source": [
        "a=2\n",
        "while a<10:\n",
        "  print(a)\n",
        "  if a==4:\n",
        "    break\n",
        "  a+=2\n",
        "else:\n",
        "  print(\"It is no longer less than 4\")"
      ],
      "metadata": {
        "id": "IRhHEyJFy_Zj",
        "colab": {
          "base_uri": "https://localhost:8080/"
        },
        "outputId": "50ac8c52-2b43-427c-a5fd-4c8daa317baa"
      },
      "execution_count": 11,
      "outputs": [
        {
          "output_type": "stream",
          "name": "stdout",
          "text": [
            "2\n",
            "4\n"
          ]
        }
      ]
    },
    {
      "cell_type": "code",
      "source": [
        "b= 1\n",
        "while b < 6:\n",
        "  print(b)\n",
        "  b += 2\n",
        "else:\n",
        "  print(\"b is no longer less than 6\")\n"
      ],
      "metadata": {
        "colab": {
          "base_uri": "https://localhost:8080/"
        },
        "id": "nWvm69CkVCAt",
        "outputId": "0e7181c3-85fb-4190-b90e-ccfcdc9c901c"
      },
      "execution_count": 13,
      "outputs": [
        {
          "output_type": "stream",
          "name": "stdout",
          "text": [
            "1\n",
            "3\n",
            "5\n",
            "b is no longer less than 6\n"
          ]
        }
      ]
    }
  ]
}