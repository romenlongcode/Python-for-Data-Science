{
  "nbformat": 4,
  "nbformat_minor": 0,
  "metadata": {
    "colab": {
      "provenance": [],
      "toc_visible": true,
      "authorship_tag": "ABX9TyMjiFSImEpp3R38JLu64UwM",
      "include_colab_link": true
    },
    "kernelspec": {
      "name": "python3",
      "display_name": "Python 3"
    },
    "language_info": {
      "name": "python"
    }
  },
  "cells": [
    {
      "cell_type": "markdown",
      "metadata": {
        "id": "view-in-github",
        "colab_type": "text"
      },
      "source": [
        "<a href=\"https://colab.research.google.com/github/romenlongcode/Python-for-Data-Science/blob/main/pyuth.ipynb\" target=\"_parent\"><img src=\"https://colab.research.google.com/assets/colab-badge.svg\" alt=\"Open In Colab\"/></a>"
      ]
    },
    {
      "cell_type": "code",
      "execution_count": 2,
      "metadata": {
        "id": "F8yyiiQNAAAn",
        "colab": {
          "base_uri": "https://localhost:8080/"
        },
        "outputId": "5f0a3db7-05d8-4a94-83bb-bda86f17e0a9"
      },
      "outputs": [
        {
          "output_type": "stream",
          "name": "stdout",
          "text": [
            "Exponent Result: 3200000\n",
            "Floor Division Result: 4\n",
            "Modulus Result: 0\n"
          ]
        }
      ],
      "source": [
        "a=20\n",
        "b=5\n",
        "floor_div_result=a//b\n",
        "modulus_result=a%b\n",
        "exponential_result=a**b\n",
        "print(\"Exponent Result:\",exponential_result)\n",
        "print(\"Floor Division Result:\",floor_div_result)\n",
        "print(\"Modulus Result:\",modulus_result)"
      ]
    },
    {
      "cell_type": "code",
      "source": [
        "#Comparison\n",
        "num1=45\n",
        "num2=48\n",
        "print(\"num1 is equal to num2:\",num1==num2)"
      ],
      "metadata": {
        "colab": {
          "base_uri": "https://localhost:8080/"
        },
        "id": "IAZZzvZJrC14",
        "outputId": "23765311-e5eb-4353-a475-62ebe3976e9e"
      },
      "execution_count": 4,
      "outputs": [
        {
          "output_type": "stream",
          "name": "stdout",
          "text": [
            "num1 is equal to num2: False\n"
          ]
        }
      ]
    },
    {
      "cell_type": "code",
      "source": [
        "num1=23\n",
        "num2=28\n",
        "print(\"num1 is greater than or equal to :\",num1>=num2)\n",
        "print(\"num1 is less than or equal to :\",num1<=num2)"
      ],
      "metadata": {
        "colab": {
          "base_uri": "https://localhost:8080/"
        },
        "id": "OdT_AU02rvFH",
        "outputId": "836119ee-a7f3-40e3-f24b-8f0a664a6782"
      },
      "execution_count": 5,
      "outputs": [
        {
          "output_type": "stream",
          "name": "stdout",
          "text": [
            "num1 is greater than or equal to : False\n",
            "num1 is less than or equal to : True\n"
          ]
        }
      ]
    },
    {
      "cell_type": "code",
      "source": [
        "# LOGICAL OPERATORS\n",
        "##AND\n",
        "x=8\n",
        "print(x>5 and x<10)"
      ],
      "metadata": {
        "colab": {
          "base_uri": "https://localhost:8080/"
        },
        "id": "HoBUUfayr4mH",
        "outputId": "e37e72c0-1d71-44f6-9815-7f3ab0271ee4"
      },
      "execution_count": 6,
      "outputs": [
        {
          "output_type": "stream",
          "name": "stdout",
          "text": [
            "True\n"
          ]
        }
      ]
    },
    {
      "cell_type": "code",
      "source": [
        "print(x>9 and x<6)"
      ],
      "metadata": {
        "colab": {
          "base_uri": "https://localhost:8080/"
        },
        "id": "cx_YsBgcr49R",
        "outputId": "892c2c20-dd38-47be-bc83-6cd40c87edf6"
      },
      "execution_count": 7,
      "outputs": [
        {
          "output_type": "stream",
          "name": "stdout",
          "text": [
            "False\n"
          ]
        }
      ]
    },
    {
      "cell_type": "code",
      "source": [
        "##OR\n",
        "x=8\n",
        "print(x>8 or x<8)"
      ],
      "metadata": {
        "colab": {
          "base_uri": "https://localhost:8080/"
        },
        "id": "xGdtWht1r5IR",
        "outputId": "e88ceab7-85bb-459c-e0ed-b145b02831bc"
      },
      "execution_count": 10,
      "outputs": [
        {
          "output_type": "stream",
          "name": "stdout",
          "text": [
            "False\n"
          ]
        }
      ]
    },
    {
      "cell_type": "code",
      "source": [],
      "metadata": {
        "id": "R5q9egnWr7TZ"
      },
      "execution_count": null,
      "outputs": []
    }
  ]
}