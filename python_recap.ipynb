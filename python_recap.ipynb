{
 "cells": [
  {
   "cell_type": "code",
   "execution_count": 2,
   "id": "dc75b2b9",
   "metadata": {},
   "outputs": [
    {
     "name": "stdout",
     "output_type": "stream",
     "text": [
      "Good Morning\n"
     ]
    }
   ],
   "source": [
    "print(\"Good Morning\")"
   ]
  },
  {
   "cell_type": "code",
   "execution_count": 3,
   "id": "da4b7e35",
   "metadata": {},
   "outputs": [
    {
     "name": "stdout",
     "output_type": "stream",
     "text": [
      "My name is Tanu .\n"
     ]
    }
   ],
   "source": [
    "def Talu():\n",
    "    print(\"My name is {} .\".format(\"Tanu\"))\n",
    "    \n",
    "Talu()    "
   ]
  },
  {
   "cell_type": "code",
   "execution_count": 4,
   "id": "24864f5f",
   "metadata": {},
   "outputs": [],
   "source": [
    "class student():\n",
    "    def __init__(self, name, age ,color):\n",
    "        self.name =name \n",
    "        self.age=age\n",
    "        self.color=color"
   ]
  },
  {
   "cell_type": "code",
   "execution_count": 5,
   "id": "3807f6a1",
   "metadata": {},
   "outputs": [],
   "source": [
    "new_student= student(\"Raj\",21,\"blue\")"
   ]
  },
  {
   "cell_type": "code",
   "execution_count": 6,
   "id": "38f55a21",
   "metadata": {},
   "outputs": [
    {
     "data": {
      "text/plain": [
       "21"
      ]
     },
     "execution_count": 6,
     "metadata": {},
     "output_type": "execute_result"
    }
   ],
   "source": [
    "new_student.age"
   ]
  },
  {
   "cell_type": "code",
   "execution_count": 7,
   "id": "304ba01a",
   "metadata": {},
   "outputs": [
    {
     "data": {
      "text/plain": [
       "'Raj'"
      ]
     },
     "execution_count": 7,
     "metadata": {},
     "output_type": "execute_result"
    }
   ],
   "source": [
    "new_student.name\n"
   ]
  },
  {
   "cell_type": "code",
   "execution_count": 8,
   "id": "76b0c556",
   "metadata": {},
   "outputs": [
    {
     "data": {
      "text/plain": [
       "int"
      ]
     },
     "execution_count": 8,
     "metadata": {},
     "output_type": "execute_result"
    }
   ],
   "source": [
    "numu = 12346\n",
    "type(numu)"
   ]
  },
  {
   "cell_type": "code",
   "execution_count": 9,
   "id": "47efd2ac",
   "metadata": {},
   "outputs": [
    {
     "name": "stdout",
     "output_type": "stream",
     "text": [
      "12346\n"
     ]
    }
   ],
   "source": [
    "print(numu)"
   ]
  },
  {
   "cell_type": "code",
   "execution_count": 15,
   "id": "f87a4340",
   "metadata": {},
   "outputs": [
    {
     "name": "stdout",
     "output_type": "stream",
     "text": [
      "The integer bumber is 12346 .\n"
     ]
    }
   ],
   "source": [
    "print(\"The integer bumber is\" ,numu, \".\")"
   ]
  },
  {
   "cell_type": "code",
   "execution_count": null,
   "id": "dca8e953",
   "metadata": {},
   "outputs": [],
   "source": []
  }
 ],
 "metadata": {
  "kernelspec": {
   "display_name": "Python 3 (ipykernel)",
   "language": "python",
   "name": "python3"
  },
  "language_info": {
   "codemirror_mode": {
    "name": "ipython",
    "version": 3
   },
   "file_extension": ".py",
   "mimetype": "text/x-python",
   "name": "python",
   "nbconvert_exporter": "python",
   "pygments_lexer": "ipython3",
   "version": "3.9.19"
  }
 },
 "nbformat": 4,
 "nbformat_minor": 5
}
