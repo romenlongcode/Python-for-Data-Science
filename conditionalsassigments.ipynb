{
  "nbformat": 4,
  "nbformat_minor": 0,
  "metadata": {
    "colab": {
      "provenance": [],
      "authorship_tag": "ABX9TyPSyoyrxLqYioVeTJxVisuL",
      "include_colab_link": true
    },
    "kernelspec": {
      "name": "python3",
      "display_name": "Python 3"
    },
    "language_info": {
      "name": "python"
    }
  },
  "cells": [
    {
      "cell_type": "markdown",
      "metadata": {
        "id": "view-in-github",
        "colab_type": "text"
      },
      "source": [
        "<a href=\"https://colab.research.google.com/github/romenlongcode/Python-for-Data-Science/blob/main/conditionalsassigments.ipynb\" target=\"_parent\"><img src=\"https://colab.research.google.com/assets/colab-badge.svg\" alt=\"Open In Colab\"/></a>"
      ]
    },
    {
      "cell_type": "markdown",
      "source": [
        "# Assignments for conditional statements.\n",
        "### Assignment 1: Simple if Statement\n",
        "\n",
        "Write a program that asks the user to input a number and prints whether the number is positive."
      ],
      "metadata": {
        "id": "OJsO7f1LXLk0"
      }
    },
    {
      "cell_type": "code",
      "execution_count": 5,
      "metadata": {
        "colab": {
          "base_uri": "https://localhost:8080/"
        },
        "id": "NzN_bgfkW2VC",
        "outputId": "f5c888b4-3e13-4858-aca9-4bfac9dab461"
      },
      "outputs": [
        {
          "output_type": "stream",
          "name": "stdout",
          "text": [
            "Enter a number: 0\n",
            "The number is not positive.\n"
          ]
        }
      ],
      "source": [
        "i = int(input(\"Enter a number: \"))\n",
        "if i > 0:\n",
        "    print(\"The number is positive.\")\n",
        "else:\n",
        "  print(\"The number is not positive.\")"
      ]
    }
  ]
}