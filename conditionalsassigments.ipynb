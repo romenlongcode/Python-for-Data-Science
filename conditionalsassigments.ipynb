{
  "nbformat": 4,
  "nbformat_minor": 0,
  "metadata": {
    "colab": {
      "provenance": [],
      "authorship_tag": "ABX9TyNBbgzqmy3U67cBDNCx7ytE",
      "include_colab_link": true
    },
    "kernelspec": {
      "name": "python3",
      "display_name": "Python 3"
    },
    "language_info": {
      "name": "python"
    }
  },
  "cells": [
    {
      "cell_type": "markdown",
      "metadata": {
        "id": "view-in-github",
        "colab_type": "text"
      },
      "source": [
        "<a href=\"https://colab.research.google.com/github/romenlongcode/Python-for-Data-Science/blob/main/conditionalsassigments.ipynb\" target=\"_parent\"><img src=\"https://colab.research.google.com/assets/colab-badge.svg\" alt=\"Open In Colab\"/></a>"
      ]
    },
    {
      "cell_type": "markdown",
      "source": [
        "# Assignments for conditional statements.\n",
        "### Assignment 1: Simple if Statement\n",
        "\n",
        "Write a program that asks the user to input a number and prints whether the number is positive."
      ],
      "metadata": {
        "id": "OJsO7f1LXLk0"
      }
    },
    {
      "cell_type": "code",
      "execution_count": 6,
      "metadata": {
        "colab": {
          "base_uri": "https://localhost:8080/"
        },
        "id": "NzN_bgfkW2VC",
        "outputId": "3deaf82e-896b-4c54-bb58-e4928181d288"
      },
      "outputs": [
        {
          "output_type": "stream",
          "name": "stdout",
          "text": [
            "Enter a number: -9\n",
            "The number is not positive.\n"
          ]
        }
      ],
      "source": [
        "i = int(input(\"Enter a number: \"))\n",
        "if i > 0:\n",
        "    print(\"The number is positive.\")\n",
        "else:\n",
        "  print(\"The number is not positive.\")"
      ]
    },
    {
      "cell_type": "markdown",
      "source": [
        "###Assignment 2:if-else\n",
        "Write a program that asks the user to input a number and prints whether the number is positive or negative.\n",
        "\n",
        "### Assignment 3: if-elif-else Statement\n",
        "\n",
        "Write a program that asks the user to input a number and prints whether the number is positive, negative, or zero."
      ],
      "metadata": {
        "id": "QHR_H8tKZgkO"
      }
    },
    {
      "cell_type": "code",
      "source": [
        "i=int(input(\"Enter a number: \"))\n",
        "if i > 0:\n",
        "  print(\"The number is positive.\")\n",
        "elif i < 0:\n",
        "  print(\"The number is negative.\")\n",
        "else:\n",
        "  print(\"The number is zero.\")"
      ],
      "metadata": {
        "colab": {
          "base_uri": "https://localhost:8080/"
        },
        "id": "WoQ1Bx43Zc-S",
        "outputId": "94e4aec4-3b7a-4db3-c104-0d54d838233b"
      },
      "execution_count": 10,
      "outputs": [
        {
          "output_type": "stream",
          "name": "stdout",
          "text": [
            "Enter a number: -32\n",
            "The number is negative.\n"
          ]
        }
      ]
    },
    {
      "cell_type": "markdown",
      "source": [
        "## Lesson 2.2: Loops\n",
        "### Assignment 5: for Loop\n",
        "\n",
        "Write a program that prints all the numbers from 1 to 10 using a for loop.\n",
        "\n",
        "### Assignment 6: while Loop\n",
        "\n",
        "Write a program that prints all the numbers from 1 to 10 using a while loop.\n"
      ],
      "metadata": {
        "id": "FIu-N57PdsrW"
      }
    },
    {
      "cell_type": "code",
      "source": [
        "#A5\n",
        "for i in range(1,11):\n",
        "  print(i)\n"
      ],
      "metadata": {
        "colab": {
          "base_uri": "https://localhost:8080/"
        },
        "id": "URES5Y8kdwF4",
        "outputId": "6fe2046b-7c31-4551-e535-971f62efa555"
      },
      "execution_count": 11,
      "outputs": [
        {
          "output_type": "stream",
          "name": "stdout",
          "text": [
            "1\n",
            "2\n",
            "3\n",
            "4\n",
            "5\n",
            "6\n",
            "7\n",
            "8\n",
            "9\n",
            "10\n"
          ]
        }
      ]
    },
    {
      "cell_type": "code",
      "source": [
        "#A6\n",
        "i=0\n",
        "while i < 10:\n",
        "  i+=1\n",
        "  print(i)"
      ],
      "metadata": {
        "colab": {
          "base_uri": "https://localhost:8080/"
        },
        "id": "B3sexU2SeC3X",
        "outputId": "f10d05a6-9829-4e74-c5b0-97bc4efa6402"
      },
      "execution_count": 12,
      "outputs": [
        {
          "output_type": "stream",
          "name": "stdout",
          "text": [
            "1\n",
            "2\n",
            "3\n",
            "4\n",
            "5\n",
            "6\n",
            "7\n",
            "8\n",
            "9\n",
            "10\n"
          ]
        }
      ]
    },
    {
      "cell_type": "markdown",
      "source": [
        "### Assignment 7: Nested Loops\n",
        "\n",
        "Write a program that prints a 5x5 grid of asterisks (*) using nested loops.\n",
        "\n",
        "### Assignment 8: break Statement\n",
        "\n",
        "Write a program that asks the user to input numbers until they input 0. The program should print the sum of all the input numbers.\n",
        "\n",
        "### Assignment 9: continue Statement\n",
        "\n",
        "Write a program that prints all the numbers from 1 to 10 except 5 using a for loop and continue statement.\n",
        "\n",
        "### Assignment 10: pass Statement\n",
        "\n",
        "Write a program that defines an empty function using the pass statement.\n",
        "\n",
        "### Assignment 11: Combining Loops and Conditionals\n",
        "\n",
        "Write a program that asks the user to input a number and prints all the even numbers from 1 to that number using a for loop.\n"
      ],
      "metadata": {
        "id": "D0LL3fYSeo4H"
      }
    },
    {
      "cell_type": "code",
      "source": [
        "#A7\n",
        "for i in range(5):\n",
        "  for j in range(5):\n",
        "    print(\"*\",end=\" \")\n",
        "  print()"
      ],
      "metadata": {
        "colab": {
          "base_uri": "https://localhost:8080/"
        },
        "id": "kBqYVOPFeDYe",
        "outputId": "2494dec3-cf50-47f0-b55e-9a8fcf2116cf"
      },
      "execution_count": 13,
      "outputs": [
        {
          "output_type": "stream",
          "name": "stdout",
          "text": [
            "* * * * * \n",
            "* * * * * \n",
            "* * * * * \n",
            "* * * * * \n",
            "* * * * * \n"
          ]
        }
      ]
    },
    {
      "cell_type": "code",
      "source": [
        "#A7\n",
        "for a in range(1,6,1):\n",
        "  for b in range(1,6,1):\n",
        "    print(\"*\",end=\" \")\n",
        "  print()"
      ],
      "metadata": {
        "colab": {
          "base_uri": "https://localhost:8080/"
        },
        "id": "UP66AM64eIfJ",
        "outputId": "f3d14f5e-0b8c-4376-ef65-d09caa276dd5"
      },
      "execution_count": 14,
      "outputs": [
        {
          "output_type": "stream",
          "name": "stdout",
          "text": [
            "* * * * * \n",
            "* * * * * \n",
            "* * * * * \n",
            "* * * * * \n",
            "* * * * * \n"
          ]
        }
      ]
    },
    {
      "cell_type": "code",
      "source": [
        "#A8\n",
        "sum=0\n",
        "while True:\n",
        "  num=int(input(\"Enter a number(0 to stop): \"))\n",
        "  if num==0:\n",
        "    break\n",
        "  sum+=num\n",
        "print(\"The sum of all input numbers is:\",sum)"
      ],
      "metadata": {
        "colab": {
          "base_uri": "https://localhost:8080/"
        },
        "id": "NN5L-fSoidDf",
        "outputId": "fd3b9bb0-a5c2-4e63-801f-a1ce916fbc77"
      },
      "execution_count": 16,
      "outputs": [
        {
          "output_type": "stream",
          "name": "stdout",
          "text": [
            "Enter a number(0 to stop): 1\n",
            "Enter a number(0 to stop): 2\n",
            "Enter a number(0 to stop): 3\n",
            "Enter a number(0 to stop): 4\n",
            "Enter a number(0 to stop): 0\n",
            "The sum of all input numbers is: 10\n"
          ]
        }
      ]
    },
    {
      "cell_type": "code",
      "source": [
        "product=1\n",
        "while True:\n",
        "  num=int(input(\"Enter a number(0 to stop): \"))\n",
        "  if num==0:\n",
        "    break\n",
        "  product*=num\n",
        "print(\"The product of all input numbers is:\",product)"
      ],
      "metadata": {
        "colab": {
          "base_uri": "https://localhost:8080/"
        },
        "id": "9ZhFqxKwjQpw",
        "outputId": "be9616b5-0f7c-4eca-d13f-1fef021eff0a"
      },
      "execution_count": 20,
      "outputs": [
        {
          "output_type": "stream",
          "name": "stdout",
          "text": [
            "Enter a number(0 to stop): 8\n",
            "Enter a number(0 to stop): 8\n",
            "Enter a number(0 to stop): 2\n",
            "Enter a number(0 to stop): 0\n",
            "The product of all input numbers is: 128\n"
          ]
        }
      ]
    },
    {
      "cell_type": "code",
      "source": [
        "#A9\n",
        "for i in range(1,11):\n",
        "  if i==5:\n",
        "    continue\n",
        "  print(i)"
      ],
      "metadata": {
        "colab": {
          "base_uri": "https://localhost:8080/"
        },
        "id": "m8fVaOoXktez",
        "outputId": "123a24df-8bb7-428a-ec34-7e3c71bcf625"
      },
      "execution_count": 21,
      "outputs": [
        {
          "output_type": "stream",
          "name": "stdout",
          "text": [
            "1\n",
            "2\n",
            "3\n",
            "4\n",
            "6\n",
            "7\n",
            "8\n",
            "9\n",
            "10\n"
          ]
        }
      ]
    },
    {
      "cell_type": "code",
      "source": [
        "for i in range(0,15):\n",
        "  if i%2==0:\n",
        "    continue\n",
        "  print(i)"
      ],
      "metadata": {
        "colab": {
          "base_uri": "https://localhost:8080/"
        },
        "id": "klK7aImwkuDR",
        "outputId": "32e0594f-46a7-4abc-ab95-2ef8d98e126f"
      },
      "execution_count": 22,
      "outputs": [
        {
          "output_type": "stream",
          "name": "stdout",
          "text": [
            "1\n",
            "3\n",
            "5\n",
            "7\n",
            "9\n",
            "11\n",
            "13\n"
          ]
        }
      ]
    },
    {
      "cell_type": "code",
      "source": [],
      "metadata": {
        "id": "wuPCWE5okvE_"
      },
      "execution_count": null,
      "outputs": []
    }
  ]
}