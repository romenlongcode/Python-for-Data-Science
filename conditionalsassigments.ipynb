{
  "nbformat": 4,
  "nbformat_minor": 0,
  "metadata": {
    "colab": {
      "provenance": [],
      "authorship_tag": "ABX9TyM3XmtS7d5SC1/xdodd/O/x",
      "include_colab_link": true
    },
    "kernelspec": {
      "name": "python3",
      "display_name": "Python 3"
    },
    "language_info": {
      "name": "python"
    }
  },
  "cells": [
    {
      "cell_type": "markdown",
      "metadata": {
        "id": "view-in-github",
        "colab_type": "text"
      },
      "source": [
        "<a href=\"https://colab.research.google.com/github/romenlongcode/Python-for-Data-Science/blob/main/conditionalsassigments.ipynb\" target=\"_parent\"><img src=\"https://colab.research.google.com/assets/colab-badge.svg\" alt=\"Open In Colab\"/></a>"
      ]
    },
    {
      "cell_type": "markdown",
      "source": [
        "# Assignments for conditional statements.\n",
        "### Assignment 1: Simple if Statement\n",
        "\n",
        "Write a program that asks the user to input a number and prints whether the number is positive."
      ],
      "metadata": {
        "id": "OJsO7f1LXLk0"
      }
    },
    {
      "cell_type": "code",
      "execution_count": 6,
      "metadata": {
        "colab": {
          "base_uri": "https://localhost:8080/"
        },
        "id": "NzN_bgfkW2VC",
        "outputId": "3deaf82e-896b-4c54-bb58-e4928181d288"
      },
      "outputs": [
        {
          "output_type": "stream",
          "name": "stdout",
          "text": [
            "Enter a number: -9\n",
            "The number is not positive.\n"
          ]
        }
      ],
      "source": [
        "i = int(input(\"Enter a number: \"))\n",
        "if i > 0:\n",
        "    print(\"The number is positive.\")\n",
        "else:\n",
        "  print(\"The number is not positive.\")"
      ]
    },
    {
      "cell_type": "markdown",
      "source": [
        "###Assignment 2:if-else\n",
        "Write a program that asks the user to input a number and prints whether the number is positive or negative.\n",
        "\n",
        "### Assignment 3: if-elif-else Statement\n",
        "\n",
        "Write a program that asks the user to input a number and prints whether the number is positive, negative, or zero."
      ],
      "metadata": {
        "id": "QHR_H8tKZgkO"
      }
    },
    {
      "cell_type": "code",
      "source": [
        "i=int(input(\"Enter a number: \"))\n",
        "if i > 0:\n",
        "  print(\"The number is positive.\")\n",
        "elif i < 0:\n",
        "  print(\"The number is negative.\")\n",
        "else:\n",
        "  print(\"The number is zero.\")"
      ],
      "metadata": {
        "colab": {
          "base_uri": "https://localhost:8080/"
        },
        "id": "WoQ1Bx43Zc-S",
        "outputId": "94e4aec4-3b7a-4db3-c104-0d54d838233b"
      },
      "execution_count": 10,
      "outputs": [
        {
          "output_type": "stream",
          "name": "stdout",
          "text": [
            "Enter a number: -32\n",
            "The number is negative.\n"
          ]
        }
      ]
    }
  ]
}