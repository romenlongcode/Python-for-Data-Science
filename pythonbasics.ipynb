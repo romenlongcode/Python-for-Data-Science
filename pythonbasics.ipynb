{
 "cells": [
  {
   "cell_type": "markdown",
   "id": "5599e35c",
   "metadata": {},
   "source": [
    "# INTRODUCTION TO PYTHON USING JUPYTER NOTEBOOK\n",
    "\n",
    "#### JUPYTER NOTEBOOK"
   ]
  },
  {
   "cell_type": "code",
   "execution_count": 4,
   "id": "e7fd5f33",
   "metadata": {},
   "outputs": [
    {
     "name": "stdout",
     "output_type": "stream",
     "text": [
      "7\n"
     ]
    }
   ],
   "source": [
    "print(7)"
   ]
  },
  {
   "cell_type": "markdown",
   "id": "a94e9e6b",
   "metadata": {},
   "source": [
    "# 01.VARIABLES"
   ]
  },
  {
   "cell_type": "code",
   "execution_count": 3,
   "id": "12977ba1",
   "metadata": {},
   "outputs": [
    {
     "name": "stdout",
     "output_type": "stream",
     "text": [
      "10\n"
     ]
    }
   ],
   "source": [
    "x=10\n",
    "print(x)"
   ]
  },
  {
   "cell_type": "code",
   "execution_count": 9,
   "id": "fb7ad3dd",
   "metadata": {},
   "outputs": [
    {
     "data": {
      "text/plain": [
       "'Daya'"
      ]
     },
     "execution_count": 9,
     "metadata": {},
     "output_type": "execute_result"
    }
   ],
   "source": [
    "my_fiancee=\"Daya\"\n",
    "my_fiancee"
   ]
  },
  {
   "cell_type": "code",
   "execution_count": 8,
   "id": "9671a117",
   "metadata": {},
   "outputs": [
    {
     "data": {
      "text/plain": [
       "58"
      ]
     },
     "execution_count": 8,
     "metadata": {},
     "output_type": "execute_result"
    }
   ],
   "source": [
    "my_score_in_Gate=58\n",
    "my_score_in_Gate"
   ]
  },
  {
   "cell_type": "code",
   "execution_count": 7,
   "id": "e7cd383e",
   "metadata": {},
   "outputs": [
    {
     "data": {
      "text/plain": [
       "'NIT Manipur'"
      ]
     },
     "execution_count": 7,
     "metadata": {},
     "output_type": "execute_result"
    }
   ],
   "source": [
    "my_college=\"NIT Manipur\"\n",
    "my_college"
   ]
  },
  {
   "cell_type": "markdown",
   "id": "28706aae",
   "metadata": {},
   "source": [
    "# MORE ABOUT PRINT FUNCTION\n",
    "\n",
    "## * format\n",
    "## *end and separate format"
   ]
  },
  {
   "cell_type": "code",
   "execution_count": 13,
   "id": "b02b41ac",
   "metadata": {},
   "outputs": [
    {
     "name": "stdout",
     "output_type": "stream",
     "text": [
      "Hello World I Love Python\n"
     ]
    }
   ],
   "source": [
    "print(\"Hello\",\"World\",\"I\",\"Love\",\"Python\")"
   ]
  },
  {
   "cell_type": "code",
   "execution_count": 14,
   "id": "3d80a3cf",
   "metadata": {},
   "outputs": [
    {
     "name": "stdout",
     "output_type": "stream",
     "text": [
      "Hello,World,I,Love,Python\n"
     ]
    }
   ],
   "source": [
    "print(\"Hello\",\"World\",\"I\",\"Love\",\"Python\",sep=\",\")"
   ]
  },
  {
   "cell_type": "code",
   "execution_count": 15,
   "id": "ce0fd806",
   "metadata": {},
   "outputs": [
    {
     "name": "stdout",
     "output_type": "stream",
     "text": [
      "Hello\n",
      "World\n",
      "I\n",
      "Love\n",
      "Python\n"
     ]
    }
   ],
   "source": [
    "print(\"Hello\",\"World\",\"I\",\"Love\",\"Python\",sep=\"\\n\")"
   ]
  },
  {
   "cell_type": "code",
   "execution_count": 16,
   "id": "fcd8e311",
   "metadata": {},
   "outputs": [
    {
     "name": "stdout",
     "output_type": "stream",
     "text": [
      "Hello\n",
      "\n",
      "World\n",
      "\n",
      "I\n",
      "\n",
      "Love\n",
      "\n",
      "Python\n"
     ]
    }
   ],
   "source": [
    "print(\"Hello\",\"World\",\"I\",\"Love\",\"Python\",sep=\"\\n\\n\")"
   ]
  },
  {
   "cell_type": "code",
   "execution_count": 17,
   "id": "e6be788a",
   "metadata": {},
   "outputs": [
    {
     "name": "stdout",
     "output_type": "stream",
     "text": [
      "10\n",
      "20\n"
     ]
    }
   ],
   "source": [
    "a=10 \n",
    "b=20\n",
    "print(a)\n",
    "print(b)"
   ]
  },
  {
   "cell_type": "code",
   "execution_count": 20,
   "id": "f778288c",
   "metadata": {},
   "outputs": [
    {
     "name": "stdout",
     "output_type": "stream",
     "text": [
      "10  20\n"
     ]
    }
   ],
   "source": [
    "print(a,end=\"  \")\n",
    "print(b)"
   ]
  },
  {
   "cell_type": "code",
   "execution_count": 21,
   "id": "b53275c7",
   "metadata": {},
   "outputs": [
    {
     "name": "stdout",
     "output_type": "stream",
     "text": [
      "10,20\n"
     ]
    }
   ],
   "source": [
    "print(a,end=\",\")\n",
    "print(b)"
   ]
  },
  {
   "cell_type": "code",
   "execution_count": 24,
   "id": "64e1dece",
   "metadata": {},
   "outputs": [
    {
     "name": "stdout",
     "output_type": "stream",
     "text": [
      "Indians love Mangoes.\n"
     ]
    }
   ],
   "source": [
    "p=\"Indians\"\n",
    "q=\"Mangoes\"\n",
    "r=\"Russian\"\n",
    "s=\"Pizzas\"\n",
    "print(\"{0} love {1}.\".format(p,q))"
   ]
  },
  {
   "cell_type": "code",
   "execution_count": 26,
   "id": "6b3ef81d",
   "metadata": {},
   "outputs": [
    {
     "name": "stdout",
     "output_type": "stream",
     "text": [
      "Russian love Pizzas.\n"
     ]
    }
   ],
   "source": [
    "print(\"{0} love {1}.\".format(r,s))"
   ]
  },
  {
   "cell_type": "code",
   "execution_count": 28,
   "id": "c721ee5e",
   "metadata": {},
   "outputs": [
    {
     "name": "stdout",
     "output_type": "stream",
     "text": [
      "You entered 19 and 29.\n"
     ]
    }
   ],
   "source": [
    "c=19\n",
    "d=29\n",
    "e=39\n",
    "print(\"You entered %d and %d.\"%(c,d))"
   ]
  },
  {
   "cell_type": "code",
   "execution_count": 29,
   "id": "b651523b",
   "metadata": {},
   "outputs": [
    {
     "name": "stdout",
     "output_type": "stream",
     "text": [
      "You entered 19,29 and 39.\n"
     ]
    }
   ],
   "source": [
    "print(\"You entered %d,%d and %d.\"%(c,d,e))"
   ]
  },
  {
   "cell_type": "markdown",
   "id": "c9ff98dd",
   "metadata": {},
   "source": [
    "# 02.DATATYPES"
   ]
  },
  {
   "cell_type": "code",
   "execution_count": 12,
   "id": "579bcf37",
   "metadata": {},
   "outputs": [
    {
     "name": "stdout",
     "output_type": "stream",
     "text": [
      "ISRO\n"
     ]
    }
   ],
   "source": [
    "space_agency=\"ISRO\"\n",
    "print(space_agency)"
   ]
  },
  {
   "cell_type": "code",
   "execution_count": 13,
   "id": "6a7d81d5",
   "metadata": {},
   "outputs": [
    {
     "name": "stdout",
     "output_type": "stream",
     "text": [
      "234\n"
     ]
    }
   ],
   "source": [
    "space_num =234\n",
    "print(space_num)"
   ]
  },
  {
   "cell_type": "code",
   "execution_count": 14,
   "id": "dc27dfe8",
   "metadata": {},
   "outputs": [
    {
     "data": {
      "text/plain": [
       "int"
      ]
     },
     "execution_count": 14,
     "metadata": {},
     "output_type": "execute_result"
    }
   ],
   "source": [
    "type(space_num)"
   ]
  },
  {
   "cell_type": "code",
   "execution_count": 15,
   "id": "768a2311",
   "metadata": {},
   "outputs": [
    {
     "name": "stdout",
     "output_type": "stream",
     "text": [
      "MIG-V\n"
     ]
    }
   ],
   "source": [
    "space_name=\"MIG-V\"\n",
    "print(space_name)"
   ]
  },
  {
   "cell_type": "code",
   "execution_count": 16,
   "id": "0ce4d807",
   "metadata": {},
   "outputs": [
    {
     "data": {
      "text/plain": [
       "str"
      ]
     },
     "execution_count": 16,
     "metadata": {},
     "output_type": "execute_result"
    }
   ],
   "source": [
    "type(space_name)"
   ]
  },
  {
   "cell_type": "code",
   "execution_count": 18,
   "id": "484628d5",
   "metadata": {},
   "outputs": [
    {
     "data": {
      "text/plain": [
       "str"
      ]
     },
     "execution_count": 18,
     "metadata": {},
     "output_type": "execute_result"
    }
   ],
   "source": [
    "space_check=\"true\"\n",
    "type(space_check)\n"
   ]
  },
  {
   "cell_type": "code",
   "execution_count": 19,
   "id": "f5c3fb9a",
   "metadata": {},
   "outputs": [
    {
     "data": {
      "text/plain": [
       "False"
      ]
     },
     "execution_count": 19,
     "metadata": {},
     "output_type": "execute_result"
    }
   ],
   "source": [
    "1>(0<1)"
   ]
  },
  {
   "cell_type": "code",
   "execution_count": 20,
   "id": "e404306f",
   "metadata": {},
   "outputs": [
    {
     "data": {
      "text/plain": [
       "True"
      ]
     },
     "execution_count": 20,
     "metadata": {},
     "output_type": "execute_result"
    }
   ],
   "source": [
    "1>0<1"
   ]
  },
  {
   "cell_type": "code",
   "execution_count": 21,
   "id": "1f0f6cf1",
   "metadata": {},
   "outputs": [
    {
     "data": {
      "text/plain": [
       "'a, b = a[b] = {}, 5'"
      ]
     },
     "execution_count": 21,
     "metadata": {},
     "output_type": "execute_result"
    }
   ],
   "source": [
    "\"a, b = a[b] = {}, 5\""
   ]
  },
  {
   "cell_type": "code",
   "execution_count": 22,
   "id": "ec8fcdc5",
   "metadata": {},
   "outputs": [
    {
     "data": {
      "text/plain": [
       "False"
      ]
     },
     "execution_count": 22,
     "metadata": {},
     "output_type": "execute_result"
    }
   ],
   "source": [
    "issubclass(object,type)"
   ]
  },
  {
   "cell_type": "code",
   "execution_count": 23,
   "id": "582533c7",
   "metadata": {},
   "outputs": [
    {
     "data": {
      "text/plain": [
       "False"
      ]
     },
     "execution_count": 23,
     "metadata": {},
     "output_type": "execute_result"
    }
   ],
   "source": [
    "all([[]])"
   ]
  },
  {
   "cell_type": "code",
   "execution_count": 24,
   "id": "da55c604",
   "metadata": {},
   "outputs": [
    {
     "data": {
      "text/plain": [
       "False"
      ]
     },
     "execution_count": 24,
     "metadata": {},
     "output_type": "execute_result"
    }
   ],
   "source": [
    "isinstance(\"str\",type)"
   ]
  },
  {
   "cell_type": "code",
   "execution_count": 25,
   "id": "d49d6859",
   "metadata": {},
   "outputs": [],
   "source": [
    "bool_condition=\"true\""
   ]
  },
  {
   "cell_type": "markdown",
   "id": "ed6f5f36",
   "metadata": {},
   "source": [
    "# 03. LIST  ,  SET , TUPLES & DICTIONARY"
   ]
  },
  {
   "cell_type": "markdown",
   "id": "9d44126f",
   "metadata": {},
   "source": [
    "## 03.01 LIST"
   ]
  },
  {
   "cell_type": "markdown",
   "id": "37c60bc0",
   "metadata": {},
   "source": [
    "# CREATE A LIST "
   ]
  },
  {
   "cell_type": "code",
   "execution_count": 17,
   "id": "45de9663",
   "metadata": {},
   "outputs": [
    {
     "data": {
      "text/plain": [
       "['Tokyo', 'Kyoto', 'New York', 'Chicago', 'London', 'Moscow']"
      ]
     },
     "execution_count": 17,
     "metadata": {},
     "output_type": "execute_result"
    }
   ],
   "source": [
    "My_list1=[\"Tokyo\",\"Kyoto\",\"New York\",\"Chicago\",\"London\",\"Moscow\"]\n",
    "My_list1 "
   ]
  },
  {
   "cell_type": "code",
   "execution_count": 18,
   "id": "100ca593",
   "metadata": {},
   "outputs": [
    {
     "data": {
      "text/plain": [
       "'Tokyo'"
      ]
     },
     "execution_count": 18,
     "metadata": {},
     "output_type": "execute_result"
    }
   ],
   "source": [
    "#READ\n",
    "My_list1[0]"
   ]
  },
  {
   "cell_type": "markdown",
   "id": "23102aab",
   "metadata": {},
   "source": [
    "# READ BY INDEXING"
   ]
  },
  {
   "cell_type": "code",
   "execution_count": 19,
   "id": "7b030523",
   "metadata": {},
   "outputs": [
    {
     "data": {
      "text/plain": [
       "'New York'"
      ]
     },
     "execution_count": 19,
     "metadata": {},
     "output_type": "execute_result"
    }
   ],
   "source": [
    "My_list1[2]"
   ]
  },
  {
   "cell_type": "code",
   "execution_count": 20,
   "id": "1590a279",
   "metadata": {},
   "outputs": [
    {
     "data": {
      "text/plain": [
       "'London'"
      ]
     },
     "execution_count": 20,
     "metadata": {},
     "output_type": "execute_result"
    }
   ],
   "source": [
    "My_list1[-2]"
   ]
  },
  {
   "cell_type": "code",
   "execution_count": 21,
   "id": "cf46bdf4",
   "metadata": {},
   "outputs": [
    {
     "data": {
      "text/plain": [
       "['Kyoto', 'New York']"
      ]
     },
     "execution_count": 21,
     "metadata": {},
     "output_type": "execute_result"
    }
   ],
   "source": [
    "My_list1[1:3]"
   ]
  },
  {
   "cell_type": "code",
   "execution_count": 22,
   "id": "b65f0488",
   "metadata": {},
   "outputs": [
    {
     "data": {
      "text/plain": [
       "['Chicago', 'London', 'Moscow']"
      ]
     },
     "execution_count": 22,
     "metadata": {},
     "output_type": "execute_result"
    }
   ],
   "source": [
    "My_list1[3:]"
   ]
  },
  {
   "cell_type": "code",
   "execution_count": 23,
   "id": "5710e849",
   "metadata": {},
   "outputs": [
    {
     "data": {
      "text/plain": [
       "['Tokyo', 'Kyoto', 'New York', 'Chicago']"
      ]
     },
     "execution_count": 23,
     "metadata": {},
     "output_type": "execute_result"
    }
   ],
   "source": [
    "My_list1[0:4]"
   ]
  },
  {
   "cell_type": "code",
   "execution_count": 24,
   "id": "d2abd15c",
   "metadata": {},
   "outputs": [
    {
     "data": {
      "text/plain": [
       "['Tokyo', 'Kyoto', 'New York']"
      ]
     },
     "execution_count": 24,
     "metadata": {},
     "output_type": "execute_result"
    }
   ],
   "source": [
    "My_list1[:3]"
   ]
  },
  {
   "cell_type": "code",
   "execution_count": 25,
   "id": "636ac5b3",
   "metadata": {},
   "outputs": [
    {
     "data": {
      "text/plain": [
       "6"
      ]
     },
     "execution_count": 25,
     "metadata": {},
     "output_type": "execute_result"
    }
   ],
   "source": [
    "len(My_list1)"
   ]
  },
  {
   "cell_type": "markdown",
   "id": "5f719e5e",
   "metadata": {},
   "source": [
    "# Update"
   ]
  },
  {
   "cell_type": "code",
   "execution_count": 26,
   "id": "7ea6d2b7",
   "metadata": {},
   "outputs": [
    {
     "data": {
      "text/plain": [
       "['Tokyo', 'Kyoto', 'Florida', 'New York', 'Chicago', 'London', 'Moscow']"
      ]
     },
     "execution_count": 26,
     "metadata": {},
     "output_type": "execute_result"
    }
   ],
   "source": [
    "My_list1.insert(2,'Florida')\n",
    "My_list1 \n"
   ]
  },
  {
   "cell_type": "code",
   "execution_count": 27,
   "id": "277f67a6",
   "metadata": {},
   "outputs": [
    {
     "data": {
      "text/plain": [
       "['Tokyo',\n",
       " 'Kyoto',\n",
       " 'Florida',\n",
       " 'New York',\n",
       " 'Chicago',\n",
       " 'London',\n",
       " 'Moscow',\n",
       " 'Montreal']"
      ]
     },
     "execution_count": 27,
     "metadata": {},
     "output_type": "execute_result"
    }
   ],
   "source": [
    "My_list1.append('Montreal')\n",
    "My_list1 "
   ]
  },
  {
   "cell_type": "code",
   "execution_count": 28,
   "id": "f4433e0d",
   "metadata": {},
   "outputs": [
    {
     "name": "stdout",
     "output_type": "stream",
     "text": [
      "['Tokyo', 'Kyoto', 'Florida', 'New York', 'Chicago', 'London', 'Moscow', 'Montreal', 'Imphal', 'Nambol', 'Kakching', 'Lamlai', 'KHumbong']\n"
     ]
    }
   ],
   "source": [
    "My_list2=['Imphal','Nambol','Kakching','Lamlai','KHumbong']\n",
    "My_list1.extend(My_list2)\n",
    "print(My_list1)"
   ]
  },
  {
   "cell_type": "code",
   "execution_count": null,
   "id": "b3e9f33d",
   "metadata": {},
   "outputs": [],
   "source": []
  },
  {
   "cell_type": "markdown",
   "id": "519158a1",
   "metadata": {},
   "source": [
    "# DELETE"
   ]
  },
  {
   "cell_type": "code",
   "execution_count": 35,
   "id": "37bdbfe0",
   "metadata": {},
   "outputs": [
    {
     "data": {
      "text/plain": [
       "['Tokyo',\n",
       " 'Kyoto',\n",
       " 'New York',\n",
       " 'Chicago',\n",
       " 'London',\n",
       " 'Moscow',\n",
       " 'Montreal',\n",
       " 'Imphal',\n",
       " 'Nambol',\n",
       " 'Kakching',\n",
       " 'Lamlai',\n",
       " 'KHumbong']"
      ]
     },
     "execution_count": 35,
     "metadata": {},
     "output_type": "execute_result"
    }
   ],
   "source": [
    "My_list1"
   ]
  },
  {
   "cell_type": "code",
   "execution_count": 36,
   "id": "a51e89f4",
   "metadata": {},
   "outputs": [],
   "source": [
    "My_list1.remove('Kakching')"
   ]
  },
  {
   "cell_type": "code",
   "execution_count": 37,
   "id": "9590c2c5",
   "metadata": {},
   "outputs": [
    {
     "data": {
      "text/plain": [
       "['Tokyo',\n",
       " 'Kyoto',\n",
       " 'New York',\n",
       " 'Chicago',\n",
       " 'London',\n",
       " 'Moscow',\n",
       " 'Montreal',\n",
       " 'Imphal',\n",
       " 'Nambol',\n",
       " 'Lamlai',\n",
       " 'KHumbong']"
      ]
     },
     "execution_count": 37,
     "metadata": {},
     "output_type": "execute_result"
    }
   ],
   "source": [
    "My_list1"
   ]
  },
  {
   "cell_type": "markdown",
   "id": "feaa6f4c",
   "metadata": {},
   "source": [
    "# REMOVE BY INDEXING"
   ]
  },
  {
   "cell_type": "code",
   "execution_count": 38,
   "id": "da93eb07",
   "metadata": {},
   "outputs": [
    {
     "data": {
      "text/plain": [
       "'Chicago'"
      ]
     },
     "execution_count": 38,
     "metadata": {},
     "output_type": "execute_result"
    }
   ],
   "source": [
    "My_list1.pop(3)"
   ]
  },
  {
   "cell_type": "code",
   "execution_count": 39,
   "id": "cf3c9f46",
   "metadata": {},
   "outputs": [
    {
     "data": {
      "text/plain": [
       "['Tokyo',\n",
       " 'Kyoto',\n",
       " 'New York',\n",
       " 'London',\n",
       " 'Moscow',\n",
       " 'Montreal',\n",
       " 'Imphal',\n",
       " 'Nambol',\n",
       " 'Lamlai',\n",
       " 'KHumbong']"
      ]
     },
     "execution_count": 39,
     "metadata": {},
     "output_type": "execute_result"
    }
   ],
   "source": [
    "My_list1"
   ]
  },
  {
   "cell_type": "markdown",
   "id": "404f291d",
   "metadata": {},
   "source": [
    "# More about Dictionary"
   ]
  },
  {
   "cell_type": "code",
   "execution_count": 57,
   "id": "0cb27b94",
   "metadata": {},
   "outputs": [],
   "source": [
    "Biodata = { 'name' : 'Raj' ,\n",
    "            'age'  :24,\n",
    "           'address':'New York'\n",
    "          }"
   ]
  },
  {
   "cell_type": "code",
   "execution_count": 58,
   "id": "19955b85",
   "metadata": {},
   "outputs": [
    {
     "name": "stdout",
     "output_type": "stream",
     "text": [
      "{'name': 'Raj', 'age': 24, 'address': 'New York'}\n"
     ]
    }
   ],
   "source": [
    "print(Biodata)"
   ]
  },
  {
   "cell_type": "markdown",
   "id": "17ff4b24",
   "metadata": {},
   "source": [
    "# Read"
   ]
  },
  {
   "cell_type": "code",
   "execution_count": 59,
   "id": "dd11bda0",
   "metadata": {},
   "outputs": [
    {
     "data": {
      "text/plain": [
       "{'name': 'Raj', 'age': 24, 'address': 'New York'}"
      ]
     },
     "execution_count": 59,
     "metadata": {},
     "output_type": "execute_result"
    }
   ],
   "source": [
    "Biodata"
   ]
  },
  {
   "cell_type": "code",
   "execution_count": 60,
   "id": "23c3c576",
   "metadata": {},
   "outputs": [
    {
     "data": {
      "text/plain": [
       "dict_keys(['name', 'age', 'address'])"
      ]
     },
     "execution_count": 60,
     "metadata": {},
     "output_type": "execute_result"
    }
   ],
   "source": [
    "Biodata.keys()"
   ]
  },
  {
   "cell_type": "code",
   "execution_count": 61,
   "id": "1cc5fc70",
   "metadata": {},
   "outputs": [
    {
     "data": {
      "text/plain": [
       "dict_values(['Raj', 24, 'New York'])"
      ]
     },
     "execution_count": 61,
     "metadata": {},
     "output_type": "execute_result"
    }
   ],
   "source": [
    "Biodata.values()"
   ]
  },
  {
   "cell_type": "code",
   "execution_count": 62,
   "id": "ec402f8a",
   "metadata": {},
   "outputs": [
    {
     "data": {
      "text/plain": [
       "24"
      ]
     },
     "execution_count": 62,
     "metadata": {},
     "output_type": "execute_result"
    }
   ],
   "source": [
    "Biodata['age']"
   ]
  },
  {
   "cell_type": "code",
   "execution_count": 63,
   "id": "fc3a5fa5",
   "metadata": {},
   "outputs": [
    {
     "data": {
      "text/plain": [
       "'Raj'"
      ]
     },
     "execution_count": 63,
     "metadata": {},
     "output_type": "execute_result"
    }
   ],
   "source": [
    "Biodata['name']"
   ]
  },
  {
   "cell_type": "markdown",
   "id": "b967a278",
   "metadata": {},
   "source": [
    "# update"
   ]
  },
  {
   "cell_type": "code",
   "execution_count": 64,
   "id": "a10359aa",
   "metadata": {},
   "outputs": [],
   "source": [
    "Biodata['address']='Tokyo'"
   ]
  },
  {
   "cell_type": "code",
   "execution_count": 65,
   "id": "925e2f1f",
   "metadata": {},
   "outputs": [],
   "source": [
    "Biodata['age']=23"
   ]
  },
  {
   "cell_type": "code",
   "execution_count": 66,
   "id": "41e1318e",
   "metadata": {},
   "outputs": [
    {
     "data": {
      "text/plain": [
       "{'name': 'Raj', 'age': 23, 'address': 'Tokyo'}"
      ]
     },
     "execution_count": 66,
     "metadata": {},
     "output_type": "execute_result"
    }
   ],
   "source": [
    "Biodata"
   ]
  },
  {
   "cell_type": "code",
   "execution_count": 67,
   "id": "4653fcc6",
   "metadata": {},
   "outputs": [],
   "source": [
    "Biodata['company'] = 'Meta'"
   ]
  },
  {
   "cell_type": "code",
   "execution_count": 68,
   "id": "db1209a3",
   "metadata": {},
   "outputs": [
    {
     "data": {
      "text/plain": [
       "{'name': 'Raj', 'age': 23, 'address': 'Tokyo', 'company': 'Meta'}"
      ]
     },
     "execution_count": 68,
     "metadata": {},
     "output_type": "execute_result"
    }
   ],
   "source": [
    "Biodata"
   ]
  },
  {
   "cell_type": "markdown",
   "id": "e3834687",
   "metadata": {},
   "source": [
    "# Deleting a value"
   ]
  },
  {
   "cell_type": "code",
   "execution_count": 69,
   "id": "5635849c",
   "metadata": {},
   "outputs": [],
   "source": [
    "del Biodata['age']"
   ]
  },
  {
   "cell_type": "code",
   "execution_count": 70,
   "id": "aa701112",
   "metadata": {},
   "outputs": [
    {
     "data": {
      "text/plain": [
       "{'name': 'Raj', 'address': 'Tokyo', 'company': 'Meta'}"
      ]
     },
     "execution_count": 70,
     "metadata": {},
     "output_type": "execute_result"
    }
   ],
   "source": [
    "Biodata"
   ]
  },
  {
   "cell_type": "markdown",
   "id": "c7f7a95d",
   "metadata": {},
   "source": [
    "# 4. CONDITIONS AND LOGIC"
   ]
  },
  {
   "cell_type": "markdown",
   "id": "12548343",
   "metadata": {},
   "source": [
    "## IF Statements"
   ]
  },
  {
   "cell_type": "code",
   "execution_count": 75,
   "id": "75bec311",
   "metadata": {},
   "outputs": [
    {
     "name": "stdout",
     "output_type": "stream",
     "text": [
      "Tanu is the lead female actor.\n"
     ]
    }
   ],
   "source": [
    "# first condition of if sttt\n",
    "\n",
    "x = \"Tanu\"\n",
    "if x == \"Tanu\":\n",
    "    print(\"Tanu is the lead female actor.\")"
   ]
  },
  {
   "cell_type": "code",
   "execution_count": 76,
   "id": "fe2e299d",
   "metadata": {},
   "outputs": [
    {
     "name": "stdout",
     "output_type": "stream",
     "text": [
      "The numbers are not matching.\n"
     ]
    }
   ],
   "source": [
    "y = 45\n",
    "if y != 43:\n",
    "    print('The numbers are not matching.')"
   ]
  },
  {
   "cell_type": "code",
   "execution_count": 79,
   "id": "fb09d06f",
   "metadata": {},
   "outputs": [
    {
     "name": "stdout",
     "output_type": "stream",
     "text": [
      "z is less than a.\n"
     ]
    }
   ],
   "source": [
    "# second condition of if stt \n",
    "z = 54\n",
    "a = 56\n",
    "if z>a :\n",
    "    print('z is greater than a.')\n",
    "else:\n",
    "    print('z is less than a.')"
   ]
  },
  {
   "cell_type": "code",
   "execution_count": null,
   "id": "0ddb1bd8",
   "metadata": {},
   "outputs": [],
   "source": [
    "# third condition of if stt\n",
    "prob = -7\n",
    "#prob is greater than 0.5\n",
    "if prob >0.5 :\n",
    " print(true)\n",
    "#prob is less than  0\n",
    "elif prob<0:\n",
    " print('Check your probabilty.')\n",
    "else :\n",
    "\n",
    "    "
   ]
  },
  {
   "cell_type": "markdown",
   "id": "f6edc8dd",
   "metadata": {},
   "source": [
    "# 5. FOR LOOPS "
   ]
  },
  {
   "cell_type": "code",
   "execution_count": 32,
   "id": "40b555cc",
   "metadata": {},
   "outputs": [
    {
     "name": "stdout",
     "output_type": "stream",
     "text": [
      "The total sum of weights is 780.\n",
      "The average of their weights is 55.\n"
     ]
    }
   ],
   "source": [
    "#How to find the sum and average of weights using for loop\n",
    "Weights=[56,59,57,49,59,56,50,58,57,59,57,56,54,53]\n",
    "new_weight1=0\n",
    "for new_weight in Weights:\n",
    "    new_weight1=new_weight1+new_weight\n",
    "    sum_weight=new_weight1\n",
    "print(\"The total sum of weights is %d.\"%(sum_weight))\n",
    "    \n",
    "num=len(Weights)\n",
    "avg=sum_weight/num\n",
    "print(\"The average of their weights is %d.\"%(avg))\n",
    "    "
   ]
  },
  {
   "cell_type": "code",
   "execution_count": null,
   "id": "706ba183",
   "metadata": {},
   "outputs": [],
   "source": [
    "# Example of for loop\n"
   ]
  },
  {
   "cell_type": "code",
   "execution_count": null,
   "id": "24146ded",
   "metadata": {},
   "outputs": [],
   "source": []
  },
  {
   "cell_type": "code",
   "execution_count": null,
   "id": "afade0c9",
   "metadata": {},
   "outputs": [],
   "source": []
  },
  {
   "cell_type": "code",
   "execution_count": null,
   "id": "032946a6",
   "metadata": {},
   "outputs": [],
   "source": []
  },
  {
   "cell_type": "code",
   "execution_count": null,
   "id": "2213ce82",
   "metadata": {},
   "outputs": [],
   "source": []
  },
  {
   "cell_type": "code",
   "execution_count": null,
   "id": "fa08c4cf",
   "metadata": {},
   "outputs": [],
   "source": []
  },
  {
   "cell_type": "code",
   "execution_count": null,
   "id": "5c19b03b",
   "metadata": {},
   "outputs": [],
   "source": []
  },
  {
   "cell_type": "code",
   "execution_count": null,
   "id": "1fba0f12",
   "metadata": {},
   "outputs": [],
   "source": []
  },
  {
   "cell_type": "code",
   "execution_count": null,
   "id": "9eea6300",
   "metadata": {},
   "outputs": [],
   "source": []
  },
  {
   "cell_type": "code",
   "execution_count": null,
   "id": "eb341abd",
   "metadata": {},
   "outputs": [],
   "source": []
  },
  {
   "cell_type": "code",
   "execution_count": null,
   "id": "6978156d",
   "metadata": {},
   "outputs": [],
   "source": []
  },
  {
   "cell_type": "code",
   "execution_count": null,
   "id": "6e4377c2",
   "metadata": {},
   "outputs": [],
   "source": []
  },
  {
   "cell_type": "code",
   "execution_count": null,
   "id": "a88ba62b",
   "metadata": {},
   "outputs": [],
   "source": []
  },
  {
   "cell_type": "code",
   "execution_count": null,
   "id": "efce43b7",
   "metadata": {},
   "outputs": [],
   "source": []
  },
  {
   "cell_type": "code",
   "execution_count": null,
   "id": "7f9f7de9",
   "metadata": {},
   "outputs": [],
   "source": []
  },
  {
   "cell_type": "code",
   "execution_count": null,
   "id": "ee463a71",
   "metadata": {},
   "outputs": [],
   "source": []
  },
  {
   "cell_type": "code",
   "execution_count": null,
   "id": "f422bd2e",
   "metadata": {},
   "outputs": [],
   "source": []
  },
  {
   "cell_type": "code",
   "execution_count": null,
   "id": "996f17df",
   "metadata": {},
   "outputs": [],
   "source": []
  },
  {
   "cell_type": "code",
   "execution_count": null,
   "id": "df38cc0b",
   "metadata": {},
   "outputs": [],
   "source": []
  },
  {
   "cell_type": "code",
   "execution_count": null,
   "id": "4ff4b195",
   "metadata": {},
   "outputs": [],
   "source": []
  }
 ],
 "metadata": {
  "kernelspec": {
   "display_name": "Python 3 (ipykernel)",
   "language": "python",
   "name": "python3"
  },
  "language_info": {
   "codemirror_mode": {
    "name": "ipython",
    "version": 3
   },
   "file_extension": ".py",
   "mimetype": "text/x-python",
   "name": "python",
   "nbconvert_exporter": "python",
   "pygments_lexer": "ipython3",
   "version": "3.9.7"
  }
 },
 "nbformat": 4,
 "nbformat_minor": 5
}
