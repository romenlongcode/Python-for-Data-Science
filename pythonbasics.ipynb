{
 "cells": [
  {
   "cell_type": "markdown",
   "id": "93e49c53",
   "metadata": {},
   "source": [
    "# 0. Variables"
   ]
  },
  {
   "cell_type": "code",
   "execution_count": 5,
   "id": "7ceb5b3b",
   "metadata": {},
   "outputs": [
    {
     "name": "stdout",
     "output_type": "stream",
     "text": [
      "Romen Rake\n",
      "89\n"
     ]
    }
   ],
   "source": [
    "namein=\"Romen Rake\"\n",
    "numin=89\n",
    "print(namein)\n",
    "print(numin)"
   ]
  },
  {
   "cell_type": "code",
   "execution_count": 8,
   "id": "290f6fc8",
   "metadata": {},
   "outputs": [
    {
     "data": {
      "text/plain": [
       "'Romen Rake'"
      ]
     },
     "execution_count": 8,
     "metadata": {},
     "output_type": "execute_result"
    }
   ],
   "source": [
    "numin\n",
    "namein"
   ]
  },
  {
   "cell_type": "code",
   "execution_count": 2,
   "id": "2f1bad88",
   "metadata": {},
   "outputs": [
    {
     "name": "stdout",
     "output_type": "stream",
     "text": [
      "Renotte\n"
     ]
    }
   ],
   "source": [
    "print('Renotte')"
   ]
  },
  {
   "cell_type": "code",
   "execution_count": 3,
   "id": "423f68a6",
   "metadata": {},
   "outputs": [
    {
     "data": {
      "text/plain": [
       "float"
      ]
     },
     "execution_count": 3,
     "metadata": {},
     "output_type": "execute_result"
    }
   ],
   "source": [
    "float_variable=78.09\n",
    "type(float_variable)"
   ]
  },
  {
   "cell_type": "code",
   "execution_count": 5,
   "id": "312897bb",
   "metadata": {},
   "outputs": [
    {
     "data": {
      "text/plain": [
       "81.0"
      ]
     },
     "execution_count": 5,
     "metadata": {},
     "output_type": "execute_result"
    }
   ],
   "source": [
    "float_variable +2.91"
   ]
  },
  {
   "cell_type": "code",
   "execution_count": 7,
   "id": "6075c812",
   "metadata": {},
   "outputs": [
    {
     "data": {
      "text/plain": [
       "True"
      ]
     },
     "execution_count": 7,
     "metadata": {},
     "output_type": "execute_result"
    }
   ],
   "source": [
    "bool_variable=True\n",
    "bool_variable"
   ]
  },
  {
   "cell_type": "markdown",
   "id": "4cfad420",
   "metadata": {},
   "source": [
    "# 1.LIST"
   ]
  },
  {
   "cell_type": "code",
   "execution_count": 1,
   "id": "5e82ee9b",
   "metadata": {
    "scrolled": true
   },
   "outputs": [
    {
     "data": {
      "text/plain": [
       "list"
      ]
     },
     "execution_count": 1,
     "metadata": {},
     "output_type": "execute_result"
    }
   ],
   "source": [
    "data = [\"Rose\", \"Lotus\",\"SUnflower\", \"Lily\",\"Orchid\"]\n",
    "type(data)"
   ]
  },
  {
   "cell_type": "code",
   "execution_count": 2,
   "id": "2147efeb",
   "metadata": {},
   "outputs": [
    {
     "data": {
      "text/plain": [
       "'Rose'"
      ]
     },
     "execution_count": 2,
     "metadata": {},
     "output_type": "execute_result"
    }
   ],
   "source": [
    "data[0]"
   ]
  },
  {
   "cell_type": "code",
   "execution_count": 3,
   "id": "df728034",
   "metadata": {},
   "outputs": [
    {
     "data": {
      "text/plain": [
       "'Lily'"
      ]
     },
     "execution_count": 3,
     "metadata": {},
     "output_type": "execute_result"
    }
   ],
   "source": [
    "data[3]"
   ]
  },
  {
   "cell_type": "code",
   "execution_count": 11,
   "id": "d951bb3a",
   "metadata": {},
   "outputs": [
    {
     "data": {
      "text/plain": [
       "list"
      ]
     },
     "execution_count": 11,
     "metadata": {},
     "output_type": "execute_result"
    }
   ],
   "source": [
    "#CREATE\n",
    "#we are  creating a list\n",
    "\n",
    "nnum =[1,3,0,7,4,9,5]\n",
    "type(nnum )"
   ]
  },
  {
   "cell_type": "code",
   "execution_count": 14,
   "id": "c0016ea7",
   "metadata": {},
   "outputs": [
    {
     "data": {
      "text/plain": [
       "7"
      ]
     },
     "execution_count": 14,
     "metadata": {},
     "output_type": "execute_result"
    }
   ],
   "source": [
    "#READ\n",
    "nnum[3]"
   ]
  },
  {
   "cell_type": "code",
   "execution_count": 15,
   "id": "ab754862",
   "metadata": {},
   "outputs": [
    {
     "data": {
      "text/plain": [
       "[1, 3, 0, 7, 4, 9, 5]"
      ]
     },
     "execution_count": 15,
     "metadata": {},
     "output_type": "execute_result"
    }
   ],
   "source": [
    "nnum"
   ]
  },
  {
   "cell_type": "code",
   "execution_count": 12,
   "id": "3efea79b",
   "metadata": {},
   "outputs": [
    {
     "data": {
      "text/plain": [
       "7"
      ]
     },
     "execution_count": 12,
     "metadata": {},
     "output_type": "execute_result"
    }
   ],
   "source": [
    "len(nnum)"
   ]
  },
  {
   "cell_type": "code",
   "execution_count": 16,
   "id": "8114be43",
   "metadata": {},
   "outputs": [
    {
     "name": "stdout",
     "output_type": "stream",
     "text": [
      "[1, 3, 0, 7, 4, 9, 5]\n"
     ]
    }
   ],
   "source": [
    "print(nnum)"
   ]
  },
  {
   "cell_type": "code",
   "execution_count": 23,
   "id": "b2f04c32",
   "metadata": {},
   "outputs": [],
   "source": [
    "#UPDATE\n",
    "nnum[2]=41"
   ]
  },
  {
   "cell_type": "code",
   "execution_count": 24,
   "id": "c21fdff1",
   "metadata": {},
   "outputs": [
    {
     "data": {
      "text/plain": [
       "[1, 67, 41, 6, 7, 4, 9, 5]"
      ]
     },
     "execution_count": 24,
     "metadata": {},
     "output_type": "execute_result"
    }
   ],
   "source": [
    "nnum"
   ]
  },
  {
   "cell_type": "code",
   "execution_count": 26,
   "id": "01cc71b5",
   "metadata": {},
   "outputs": [
    {
     "data": {
      "text/plain": [
       "[1, 901, 901, 67, 41, 6, 7, 4, 9, 5]"
      ]
     },
     "execution_count": 26,
     "metadata": {},
     "output_type": "execute_result"
    }
   ],
   "source": [
    "nnum.insert(1,901)\n",
    "nnum"
   ]
  },
  {
   "cell_type": "code",
   "execution_count": 30,
   "id": "b4ea094a",
   "metadata": {},
   "outputs": [],
   "source": [
    "#DELETE\n",
    "del nnum[1]"
   ]
  },
  {
   "cell_type": "code",
   "execution_count": 31,
   "id": "2ce1ebfa",
   "metadata": {},
   "outputs": [
    {
     "data": {
      "text/plain": [
       "[1, 67, 41, 6, 7, 4, 9, 5]"
      ]
     },
     "execution_count": 31,
     "metadata": {},
     "output_type": "execute_result"
    }
   ],
   "source": [
    "nnum"
   ]
  },
  {
   "cell_type": "code",
   "execution_count": 33,
   "id": "9e92e23f",
   "metadata": {},
   "outputs": [
    {
     "data": {
      "text/plain": [
       "[1, 67, 41, 6, 7, 4]"
      ]
     },
     "execution_count": 33,
     "metadata": {},
     "output_type": "execute_result"
    }
   ],
   "source": [
    "del nnum[-1]\n",
    "nnum"
   ]
  },
  {
   "cell_type": "code",
   "execution_count": 34,
   "id": "373d1966",
   "metadata": {},
   "outputs": [
    {
     "data": {
      "text/plain": [
       "[1, 67, 41, 6, 7]"
      ]
     },
     "execution_count": 34,
     "metadata": {},
     "output_type": "execute_result"
    }
   ],
   "source": [
    "del nnum[-1]\n",
    "nnum"
   ]
  },
  {
   "cell_type": "code",
   "execution_count": 35,
   "id": "1cb775f5",
   "metadata": {},
   "outputs": [
    {
     "data": {
      "text/plain": [
       "[1, 67, 41, 6]"
      ]
     },
     "execution_count": 35,
     "metadata": {},
     "output_type": "execute_result"
    }
   ],
   "source": [
    "del nnum[-1]\n",
    "nnum"
   ]
  },
  {
   "cell_type": "code",
   "execution_count": 36,
   "id": "807ef7be",
   "metadata": {},
   "outputs": [],
   "source": [
    "nnum.clear()"
   ]
  },
  {
   "cell_type": "code",
   "execution_count": 37,
   "id": "4803f4d6",
   "metadata": {},
   "outputs": [
    {
     "data": {
      "text/plain": [
       "[]"
      ]
     },
     "execution_count": 37,
     "metadata": {},
     "output_type": "execute_result"
    }
   ],
   "source": [
    "nnum"
   ]
  },
  {
   "cell_type": "markdown",
   "id": "5c474817",
   "metadata": {},
   "source": [
    "# 2.TUPLE"
   ]
  },
  {
   "cell_type": "code",
   "execution_count": 38,
   "id": "5f96eebb",
   "metadata": {},
   "outputs": [
    {
     "data": {
      "text/plain": [
       "tuple"
      ]
     },
     "execution_count": 38,
     "metadata": {},
     "output_type": "execute_result"
    }
   ],
   "source": [
    "#CREATE\n",
    "\n",
    "nme=('Bala','Soma','Artina', 'Ithoi', 'Dolly')\n",
    "type(nme)"
   ]
  },
  {
   "cell_type": "code",
   "execution_count": 39,
   "id": "73ebc701",
   "metadata": {},
   "outputs": [
    {
     "ename": "TypeError",
     "evalue": "'tuple' object doesn't support item deletion",
     "output_type": "error",
     "traceback": [
      "\u001b[0;31m---------------------------------------------------------------------------\u001b[0m",
      "\u001b[0;31mTypeError\u001b[0m                                 Traceback (most recent call last)",
      "\u001b[0;32m/tmp/ipykernel_122780/533580005.py\u001b[0m in \u001b[0;36m<module>\u001b[0;34m\u001b[0m\n\u001b[0;32m----> 1\u001b[0;31m \u001b[0;32mdel\u001b[0m \u001b[0mnme\u001b[0m\u001b[0;34m[\u001b[0m\u001b[0;36m1\u001b[0m\u001b[0;34m]\u001b[0m\u001b[0;34m\u001b[0m\u001b[0;34m\u001b[0m\u001b[0m\n\u001b[0m",
      "\u001b[0;31mTypeError\u001b[0m: 'tuple' object doesn't support item deletion"
     ]
    }
   ],
   "source": [
    "#SO TUPLES ARE NOT MUTABLE\n",
    "del nme[1]"
   ]
  },
  {
   "cell_type": "code",
   "execution_count": 41,
   "id": "167b5405",
   "metadata": {},
   "outputs": [
    {
     "data": {
      "text/plain": [
       "'Soma'"
      ]
     },
     "execution_count": 41,
     "metadata": {},
     "output_type": "execute_result"
    }
   ],
   "source": [
    "#READ\n",
    "nme[1]"
   ]
  },
  {
   "cell_type": "code",
   "execution_count": 42,
   "id": "f8f4c38c",
   "metadata": {},
   "outputs": [
    {
     "data": {
      "text/plain": [
       "'Ithoi'"
      ]
     },
     "execution_count": 42,
     "metadata": {},
     "output_type": "execute_result"
    }
   ],
   "source": [
    "nme[3]"
   ]
  },
  {
   "cell_type": "markdown",
   "id": "57d31cd5",
   "metadata": {},
   "source": [
    "# 3. SET \n",
    "## Set are usually used to remove duplicates in a list by typecasting\n",
    "###  type list(set(list_variable))"
   ]
  },
  {
   "cell_type": "code",
   "execution_count": 47,
   "id": "7b811c27",
   "metadata": {},
   "outputs": [
    {
     "data": {
      "text/plain": [
       "set"
      ]
     },
     "execution_count": 47,
     "metadata": {},
     "output_type": "execute_result"
    }
   ],
   "source": [
    "#CREATE\n",
    "nnme= {\"apple\",\"guava\",\"mango\",\"plum\",\"kiwi\",\"goosberry\"}\n",
    "type(nnme)"
   ]
  },
  {
   "cell_type": "code",
   "execution_count": 44,
   "id": "acba73ab",
   "metadata": {},
   "outputs": [
    {
     "data": {
      "text/plain": [
       "{'apple', 'goosberry', 'guava', 'kiwi', 'mango', 'plum'}"
      ]
     },
     "execution_count": 44,
     "metadata": {},
     "output_type": "execute_result"
    }
   ],
   "source": [
    "nnme"
   ]
  },
  {
   "cell_type": "code",
   "execution_count": 48,
   "id": "39230f02",
   "metadata": {},
   "outputs": [
    {
     "ename": "TypeError",
     "evalue": "'set' object is not subscriptable",
     "output_type": "error",
     "traceback": [
      "\u001b[0;31m---------------------------------------------------------------------------\u001b[0m",
      "\u001b[0;31mTypeError\u001b[0m                                 Traceback (most recent call last)",
      "\u001b[0;32m/tmp/ipykernel_122780/3944432604.py\u001b[0m in \u001b[0;36m<module>\u001b[0;34m\u001b[0m\n\u001b[1;32m      1\u001b[0m \u001b[0;31m#READ\u001b[0m\u001b[0;34m\u001b[0m\u001b[0;34m\u001b[0m\u001b[0m\n\u001b[0;32m----> 2\u001b[0;31m \u001b[0mnnme\u001b[0m\u001b[0;34m[\u001b[0m\u001b[0;36m1\u001b[0m\u001b[0;34m]\u001b[0m\u001b[0;34m\u001b[0m\u001b[0;34m\u001b[0m\u001b[0m\n\u001b[0m",
      "\u001b[0;31mTypeError\u001b[0m: 'set' object is not subscriptable"
     ]
    }
   ],
   "source": [
    "#READ. SO LIST ARE ALSO NOT IMMUTABLE\n",
    "nnme[1]"
   ]
  },
  {
   "cell_type": "markdown",
   "id": "560f1d7f",
   "metadata": {},
   "source": [
    "# 4.DICTIONARY"
   ]
  },
  {
   "cell_type": "code",
   "execution_count": 3,
   "id": "e58ee3df",
   "metadata": {},
   "outputs": [],
   "source": [
    "#CREATE"
   ]
  },
  {
   "cell_type": "code",
   "execution_count": 9,
   "id": "d659bffb",
   "metadata": {},
   "outputs": [],
   "source": [
    "student={ \"name\":\"Rojes\",\n",
    "         \"age\":23,\n",
    "         \"address\":\"Nambol\",\n",
    "         \"class\":12\n",
    "}"
   ]
  },
  {
   "cell_type": "code",
   "execution_count": 14,
   "id": "10dac68d",
   "metadata": {},
   "outputs": [
    {
     "data": {
      "text/plain": [
       "{'name': 'Rojes', 'age': 23, 'address': 'Nambol', 'class': 12}"
      ]
     },
     "execution_count": 14,
     "metadata": {},
     "output_type": "execute_result"
    }
   ],
   "source": [
    "#READ\n",
    "\n",
    "student"
   ]
  },
  {
   "cell_type": "code",
   "execution_count": 13,
   "id": "eb0f7f65",
   "metadata": {},
   "outputs": [
    {
     "data": {
      "text/plain": [
       "'Rojes'"
      ]
     },
     "execution_count": 13,
     "metadata": {},
     "output_type": "execute_result"
    }
   ],
   "source": [
    "student[\"name\"]"
   ]
  },
  {
   "cell_type": "code",
   "execution_count": 15,
   "id": "4699de1d",
   "metadata": {},
   "outputs": [
    {
     "data": {
      "text/plain": [
       "23"
      ]
     },
     "execution_count": 15,
     "metadata": {},
     "output_type": "execute_result"
    }
   ],
   "source": [
    "student[\"age\"]"
   ]
  },
  {
   "cell_type": "code",
   "execution_count": 17,
   "id": "3989e8a7",
   "metadata": {},
   "outputs": [
    {
     "data": {
      "text/plain": [
       "dict_keys(['name', 'age', 'address', 'class'])"
      ]
     },
     "execution_count": 17,
     "metadata": {},
     "output_type": "execute_result"
    }
   ],
   "source": [
    "student.keys()"
   ]
  },
  {
   "cell_type": "code",
   "execution_count": 18,
   "id": "b0a69456",
   "metadata": {},
   "outputs": [
    {
     "data": {
      "text/plain": [
       "dict_values(['Rojes', 23, 'Nambol', 12])"
      ]
     },
     "execution_count": 18,
     "metadata": {},
     "output_type": "execute_result"
    }
   ],
   "source": [
    "student.values()"
   ]
  },
  {
   "cell_type": "code",
   "execution_count": 21,
   "id": "eb73a77b",
   "metadata": {},
   "outputs": [
    {
     "data": {
      "text/plain": [
       "'age'"
      ]
     },
     "execution_count": 21,
     "metadata": {},
     "output_type": "execute_result"
    }
   ],
   "source": [
    "list(student)[1]"
   ]
  },
  {
   "cell_type": "code",
   "execution_count": 22,
   "id": "8a93a11a",
   "metadata": {},
   "outputs": [
    {
     "data": {
      "text/plain": [
       "{'name': 'Rojes', 'age': 23, 'address': 'Nambol', 'class': 12}"
      ]
     },
     "execution_count": 22,
     "metadata": {},
     "output_type": "execute_result"
    }
   ],
   "source": [
    "student"
   ]
  },
  {
   "cell_type": "code",
   "execution_count": null,
   "id": "e1754785",
   "metadata": {},
   "outputs": [],
   "source": [
    "#UPDATE"
   ]
  },
  {
   "cell_type": "code",
   "execution_count": 24,
   "id": "b6389d27",
   "metadata": {},
   "outputs": [],
   "source": [
    "student[\"age\"]=32"
   ]
  },
  {
   "cell_type": "code",
   "execution_count": 25,
   "id": "41f6585f",
   "metadata": {},
   "outputs": [
    {
     "data": {
      "text/plain": [
       "{'name': 'Rojes', 'age': 32, 'address': 'Nambol', 'class': 12}"
      ]
     },
     "execution_count": 25,
     "metadata": {},
     "output_type": "execute_result"
    }
   ],
   "source": [
    "student"
   ]
  },
  {
   "cell_type": "code",
   "execution_count": 33,
   "id": "1c85fb79",
   "metadata": {},
   "outputs": [],
   "source": [
    "#UPDATE"
   ]
  },
  {
   "cell_type": "code",
   "execution_count": 36,
   "id": "6105be3c",
   "metadata": {},
   "outputs": [
    {
     "data": {
      "text/plain": [
       "{'name': 'Rojes', 'age': 32, 'class': 12, 'address': 'Kamong', 'sex': 'Male'}"
      ]
     },
     "execution_count": 36,
     "metadata": {},
     "output_type": "execute_result"
    }
   ],
   "source": [
    "student[\"sex\"]=\"Male\"\n",
    "student"
   ]
  },
  {
   "cell_type": "code",
   "execution_count": 37,
   "id": "56e42f06",
   "metadata": {},
   "outputs": [],
   "source": [
    " student[\"address\"]=\"Kamong\""
   ]
  },
  {
   "cell_type": "code",
   "execution_count": 31,
   "id": "3951d943",
   "metadata": {},
   "outputs": [
    {
     "data": {
      "text/plain": [
       "{'name': 'Rojes', 'age': 32, 'class': 12, 'address': 'Kamong'}"
      ]
     },
     "execution_count": 31,
     "metadata": {},
     "output_type": "execute_result"
    }
   ],
   "source": [
    "student"
   ]
  },
  {
   "cell_type": "code",
   "execution_count": 38,
   "id": "20b8c415",
   "metadata": {},
   "outputs": [],
   "source": [
    "#DELETE"
   ]
  },
  {
   "cell_type": "code",
   "execution_count": 40,
   "id": "7eff6eec",
   "metadata": {},
   "outputs": [],
   "source": [
    "del student[\"address\"]"
   ]
  },
  {
   "cell_type": "code",
   "execution_count": 41,
   "id": "1c0ae425",
   "metadata": {},
   "outputs": [
    {
     "data": {
      "text/plain": [
       "{'name': 'Rojes', 'age': 32, 'class': 12, 'sex': 'Male'}"
      ]
     },
     "execution_count": 41,
     "metadata": {},
     "output_type": "execute_result"
    }
   ],
   "source": [
    "student"
   ]
  },
  {
   "cell_type": "code",
   "execution_count": 42,
   "id": "ab4c0b62",
   "metadata": {},
   "outputs": [],
   "source": [
    "del student[\"sex\"]"
   ]
  },
  {
   "cell_type": "code",
   "execution_count": 43,
   "id": "435e7744",
   "metadata": {},
   "outputs": [
    {
     "data": {
      "text/plain": [
       "{'name': 'Rojes', 'age': 32, 'class': 12}"
      ]
     },
     "execution_count": 43,
     "metadata": {},
     "output_type": "execute_result"
    }
   ],
   "source": [
    "student"
   ]
  },
  {
   "cell_type": "markdown",
   "id": "2a124ad9",
   "metadata": {},
   "source": [
    "# 5. CONDITIONS AND LOGIC\n",
    "\n",
    "### IF ELSE ELIF LOOPS"
   ]
  },
  {
   "cell_type": "code",
   "execution_count": 50,
   "id": "a39529c3",
   "metadata": {},
   "outputs": [
    {
     "name": "stdout",
     "output_type": "stream",
     "text": [
      "Hey! Sexy girl. You wanna be my Bae.\n"
     ]
    }
   ],
   "source": [
    "name=\"Mutum\"\n",
    "if name==\"Mutum\":\n",
    "    print(\"Hey! Sexy girl. You wanna be my Bae.\")"
   ]
  },
  {
   "cell_type": "code",
   "execution_count": 64,
   "id": "968e964a",
   "metadata": {
    "scrolled": true
   },
   "outputs": [
    {
     "name": "stdout",
     "output_type": "stream",
     "text": [
      "Yo! check your probability.\n"
     ]
    }
   ],
   "source": [
    "prob =-2\n",
    "if prob>=0.5:\n",
    "    print(\"There is high chance of winning.\")\n",
    "elif prob<0:\n",
    "    print(\"Yo! check your probability.\")\n",
    "else:\n",
    "    print(\"There is no chance of winning.\")"
   ]
  },
  {
   "cell_type": "markdown",
   "id": "102c0938",
   "metadata": {},
   "source": [
    "# For loops"
   ]
  },
  {
   "cell_type": "code",
   "execution_count": 2,
   "id": "7e5e49b7",
   "metadata": {},
   "outputs": [
    {
     "name": "stdout",
     "output_type": "stream",
     "text": [
      "0\n",
      "1\n",
      "2\n",
      "3\n",
      "4\n",
      "5\n",
      "6\n",
      "7\n",
      "8\n",
      "9\n"
     ]
    }
   ],
   "source": [
    "for i in range(10):\n",
    "    print(i)"
   ]
  },
  {
   "cell_type": "code",
   "execution_count": 4,
   "id": "ef802f1e",
   "metadata": {},
   "outputs": [
    {
     "name": "stdout",
     "output_type": "stream",
     "text": [
      "bbb\n",
      "ccc\n",
      "ddd\n",
      "aaa\n"
     ]
    }
   ],
   "source": [
    "aqaq={\"aaa\",\"bbb\",\"ccc\",\"ddd\"}\n",
    "for aq in aqaq:\n",
    "    print(aq)"
   ]
  },
  {
   "cell_type": "code",
   "execution_count": 6,
   "id": "1f7295d6",
   "metadata": {},
   "outputs": [
    {
     "name": "stdout",
     "output_type": "stream",
     "text": [
      "Good morning\n",
      "Good morning\n",
      "Good morning\n",
      "Good morning\n"
     ]
    }
   ],
   "source": [
    "for i in range(4):\n",
    "    print('Good morning')"
   ]
  },
  {
   "cell_type": "code",
   "execution_count": 16,
   "id": "d75ad309",
   "metadata": {},
   "outputs": [
    {
     "name": "stdout",
     "output_type": "stream",
     "text": [
      " 1 is an odd number.\n",
      " 3 is an odd number.\n",
      " 5 is an odd number.\n",
      " 7 is an odd number.\n",
      " 9 is an odd number.\n"
     ]
    }
   ],
   "source": [
    "#PRINT ODD NUMBERS\n",
    "for aa in range(11):\n",
    "    if aa%2==1:\n",
    "        print(\" {} is an odd number.\".format(aa))\n",
    "    else:\n",
    "        pass"
   ]
  },
  {
   "cell_type": "code",
   "execution_count": 32,
   "id": "93add059",
   "metadata": {},
   "outputs": [
    {
     "name": "stdout",
     "output_type": "stream",
     "text": [
      "814 is the total mark scored.\n",
      "10 is the number of students.\n",
      "81.4 is the average mark scored.\n"
     ]
    }
   ],
   "source": [
    "Hindi_marks=[89,91,67,89,76,95,86,97,59,65]\n",
    "total_mark=0\n",
    "for Hindi_mark in Hindi_marks:\n",
    "    total_mark+=Hindi_mark\n",
    "print(\"{} is the total mark scored.\".format(total_mark))\n",
    "a=len(Hindi_marks)\n",
    "print(\"{} is the number of students.\".format(a))\n",
    "av_markk =total_mark/a\n",
    "print(\"{} is the average mark scored.\".format(av_markk))"
   ]
  },
  {
   "cell_type": "code",
   "execution_count": 38,
   "id": "226f6049",
   "metadata": {},
   "outputs": [
    {
     "name": "stdout",
     "output_type": "stream",
     "text": [
      "0\n",
      "89\n",
      "1\n",
      "91\n",
      "2\n",
      "67\n",
      "3\n",
      "89\n",
      "4\n",
      "76\n",
      "5\n",
      "95\n",
      "6\n",
      "86\n",
      "7\n",
      "97\n",
      "8\n",
      "59\n",
      "9\n",
      "65\n"
     ]
    }
   ],
   "source": [
    "MIL_marks=[89,91,67,89,76,95,86,97,59,65]\n",
    "total_mark=0\n",
    "for index,MIL_mark in enumerate(MIL_marks):\n",
    "    print(index)\n",
    "    print(MIL_mark)\n"
   ]
  },
  {
   "cell_type": "code",
   "execution_count": null,
   "id": "9f35c6fa",
   "metadata": {},
   "outputs": [],
   "source": []
  },
  {
   "cell_type": "code",
   "execution_count": null,
   "id": "8aa8f5fa",
   "metadata": {},
   "outputs": [],
   "source": []
  },
  {
   "cell_type": "code",
   "execution_count": null,
   "id": "6dcfc8c9",
   "metadata": {},
   "outputs": [],
   "source": []
  },
  {
   "cell_type": "code",
   "execution_count": 6,
   "id": "0b9b3dbd",
   "metadata": {},
   "outputs": [
    {
     "name": "stdout",
     "output_type": "stream",
     "text": [
      "Space shuttle launched\n",
      "Space shuttle launched\n",
      "Space shuttle launched\n",
      "Space shuttle launched\n",
      "Space shuttle launched\n",
      "Space shuttle launched\n",
      "Space shuttle launched\n",
      "Space shuttle launched\n",
      "Space shuttle launched\n",
      "Space shuttle launched\n",
      "Space shuttle launched\n",
      "Space shuttle launched\n",
      "THe space shuttles are launched.\n"
     ]
    }
   ],
   "source": [
    "space_shuttle=0\n",
    "launch_shuttle=12\n",
    "while True:\n",
    "    print(\"Space shuttle launched\")\n",
    "    space_shuttle +=1\n",
    "    if space_shuttle == launch_shuttle:\n",
    "     print(\"THe space shuttles are launched.\")\n",
    "     break"
   ]
  },
  {
   "cell_type": "code",
   "execution_count": 8,
   "id": "61a748fd",
   "metadata": {},
   "outputs": [
    {
     "name": "stdout",
     "output_type": "stream",
     "text": [
      "Space shuttle 1 launched\n",
      "Space shuttle 2 launched\n",
      "Space shuttle 3 launched\n",
      "Space shuttle 4 launched\n",
      "Space shuttle 5 launched\n",
      "Space shuttle 6 launched\n",
      "Space shuttle 7 launched\n",
      "Space shuttle 8 launched\n",
      "Space shuttle 9 launched\n",
      "Space shuttle 10 launched\n",
      "Space shuttle 11 launched\n",
      "Space shuttle 12 launched\n",
      "THe space shuttles are launched.\n"
     ]
    }
   ],
   "source": [
    "space_shuttle=0\n",
    "launch_shuttle=12\n",
    "while True:\n",
    "    print(\"Space shuttle {} launched\".format(space_shuttle+1))\n",
    "    space_shuttle +=1\n",
    "    if space_shuttle == launch_shuttle:\n",
    "     print(\"THe space shuttles are launched.\")\n",
    "     break"
   ]
  },
  {
   "cell_type": "code",
   "execution_count": 9,
   "id": "d8eb72f3",
   "metadata": {},
   "outputs": [],
   "source": [
    "#Accessing dictionary values\n",
    "Athkete={\n",
    "     \"name\":\"Mary Kom\",\n",
    "     \"game\":\"boxing\",\n",
    "     \"Olympian\":\"Yes\",\n",
    "     \"age\":41,\n",
    "     \"state\":\"Manipur\"\n",
    " }"
   ]
  },
  {
   "cell_type": "code",
   "execution_count": 10,
   "id": "815d8da1",
   "metadata": {},
   "outputs": [
    {
     "data": {
      "text/plain": [
       "dict_values(['Mary Kom', 'boxing', 'Yes', 41, 'Manipur'])"
      ]
     },
     "execution_count": 10,
     "metadata": {},
     "output_type": "execute_result"
    }
   ],
   "source": [
    "Athkete.values()"
   ]
  },
  {
   "cell_type": "code",
   "execution_count": 15,
   "id": "1c827fe7",
   "metadata": {},
   "outputs": [
    {
     "name": "stdout",
     "output_type": "stream",
     "text": [
      "Mary Kom\n",
      "boxing\n",
      "Yes\n",
      "41\n",
      "Manipur\n"
     ]
    }
   ],
   "source": [
    "#accessing values from the dictionary\n",
    "for value in Athkete.values():\n",
    "    print(value)"
   ]
  },
  {
   "cell_type": "code",
   "execution_count": 12,
   "id": "22be6877",
   "metadata": {},
   "outputs": [
    {
     "data": {
      "text/plain": [
       "dict_keys(['name', 'game', 'Olympian', 'age', 'state'])"
      ]
     },
     "execution_count": 12,
     "metadata": {},
     "output_type": "execute_result"
    }
   ],
   "source": [
    "Athkete.keys()"
   ]
  },
  {
   "cell_type": "code",
   "execution_count": 17,
   "id": "3a742069",
   "metadata": {},
   "outputs": [
    {
     "name": "stdout",
     "output_type": "stream",
     "text": [
      "name\n",
      "game\n",
      "Olympian\n",
      "age\n",
      "state\n"
     ]
    }
   ],
   "source": [
    "#looping and accessing key values from the dictionary\n",
    "for key in Athkete.keys():\n",
    "     print(key)"
   ]
  },
  {
   "cell_type": "code",
   "execution_count": 18,
   "id": "09a975a6",
   "metadata": {},
   "outputs": [
    {
     "data": {
      "text/plain": [
       "dict_items([('name', 'Mary Kom'), ('game', 'boxing'), ('Olympian', 'Yes'), ('age', 41), ('state', 'Manipur')])"
      ]
     },
     "execution_count": 18,
     "metadata": {},
     "output_type": "execute_result"
    }
   ],
   "source": [
    "# accessing key and values at the same time\n",
    "Athkete.items()"
   ]
  },
  {
   "cell_type": "code",
   "execution_count": 24,
   "id": "5fd2f0a6",
   "metadata": {},
   "outputs": [
    {
     "name": "stdout",
     "output_type": "stream",
     "text": [
      "name\n",
      "Mary Kom \n",
      "\n",
      "game\n",
      "boxing \n",
      "\n",
      "Olympian\n",
      "Yes \n",
      "\n",
      "age\n",
      "41 \n",
      "\n",
      "state\n",
      "Manipur \n",
      "\n"
     ]
    }
   ],
   "source": [
    "for key,value in Athkete.items():\n",
    "    print(key)\n",
    "    print(value,'\\n')"
   ]
  },
  {
   "cell_type": "code",
   "execution_count": 27,
   "id": "f4366ae0",
   "metadata": {},
   "outputs": [],
   "source": [
    "name_ll={\"bala\",\"soma\",\"artina\",\"momoko\",\"apsara\"}\n",
    "name_lll=[name_l.title() for name_l in name_ll]"
   ]
  },
  {
   "cell_type": "code",
   "execution_count": 28,
   "id": "65a3f19c",
   "metadata": {},
   "outputs": [
    {
     "data": {
      "text/plain": [
       "['Apsara', 'Bala', 'Soma', 'Momoko', 'Artina']"
      ]
     },
     "execution_count": 28,
     "metadata": {},
     "output_type": "execute_result"
    }
   ],
   "source": [
    "name_lll"
   ]
  },
  {
   "cell_type": "code",
   "execution_count": null,
   "id": "5535e22f",
   "metadata": {},
   "outputs": [],
   "source": []
  },
  {
   "cell_type": "code",
   "execution_count": null,
   "id": "529f8b76",
   "metadata": {},
   "outputs": [],
   "source": []
  },
  {
   "cell_type": "code",
   "execution_count": null,
   "id": "e2cfaf1f",
   "metadata": {},
   "outputs": [],
   "source": []
  },
  {
   "cell_type": "code",
   "execution_count": null,
   "id": "e020d145",
   "metadata": {},
   "outputs": [],
   "source": []
  },
  {
   "cell_type": "code",
   "execution_count": null,
   "id": "52b97567",
   "metadata": {},
   "outputs": [],
   "source": []
  },
  {
   "cell_type": "code",
   "execution_count": null,
   "id": "2199b1d7",
   "metadata": {},
   "outputs": [],
   "source": []
  }
 ],
 "metadata": {
  "kernelspec": {
   "display_name": "Python 3 (ipykernel)",
   "language": "python",
   "name": "python3"
  },
  "language_info": {
   "codemirror_mode": {
    "name": "ipython",
    "version": 3
   },
   "file_extension": ".py",
   "mimetype": "text/x-python",
   "name": "python",
   "nbconvert_exporter": "python",
   "pygments_lexer": "ipython3",
   "version": "3.9.7"
  }
 },
 "nbformat": 4,
 "nbformat_minor": 5
}
